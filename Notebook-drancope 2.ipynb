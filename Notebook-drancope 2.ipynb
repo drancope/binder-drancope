{
 "cells": [
  {
   "cell_type": "markdown",
   "id": "developed-gateway",
   "metadata": {},
   "source": [
    "# Más acerca de Jupyter\n",
    "Jupyter acepta celdas de texto o celdas de código. Las primeras utilizan un lenguaje llamado *markdown*.\n",
    "\n",
    "El lenguaje *markdown* es un subconjunto del html.\n",
    "\n",
    "Pulsar Shift+Enter para ejecutar secuencialmente\n",
    "En el menú de celdas se puede cambiar el tipo de celda, desde \"código\" a \"markdown\".\n",
    "\n",
    "Aquí se podría editar la <big><span style=\"font-family: serif\">tipografía</span></big>, <big><big>tamaños</big></big>, etc.\n",
    "\n",
    "\\begin{equation}\n",
    "e^x=\\sum_{i=0}^\\infty \\frac{1}{i!}x^i\n",
    "\\end{equation}"
   ]
  },
  {
   "cell_type": "code",
   "execution_count": 1,
   "id": "apart-richmond",
   "metadata": {},
   "outputs": [],
   "source": [
    "from ipywidgets import interact\n",
    "import matplotlib.pyplot as plt\n",
    "import numpy as np"
   ]
  },
  {
   "cell_type": "code",
   "execution_count": 2,
   "id": "periodic-plaza",
   "metadata": {},
   "outputs": [],
   "source": [
    "def func_plot(k=1):\n",
    "    x = np.linspace(-2, 2, 200)\n",
    "    plt.plot(x, np.sin(2*np.pi*k*x))"
   ]
  },
  {
   "cell_type": "code",
   "execution_count": 4,
   "id": "structural-protocol",
   "metadata": {},
   "outputs": [
    {
     "data": {
      "application/vnd.jupyter.widget-view+json": {
       "model_id": "feb7b2289b24423e8486c7e5d7ddb437",
       "version_major": 2,
       "version_minor": 0
      },
      "text/plain": [
       "interactive(children=(IntSlider(value=1, description='k', max=10, min=1), Output()), _dom_classes=('widget-int…"
      ]
     },
     "metadata": {},
     "output_type": "display_data"
    },
    {
     "data": {
      "text/plain": [
       "<function __main__.func_plot(k=1)>"
      ]
     },
     "execution_count": 4,
     "metadata": {},
     "output_type": "execute_result"
    }
   ],
   "source": [
    "interact(func_plot, k=(1, 10))"
   ]
  },
  {
   "cell_type": "code",
   "execution_count": null,
   "id": "warming-lecture",
   "metadata": {},
   "outputs": [],
   "source": []
  }
 ],
 "metadata": {
  "celltoolbar": "Tags",
  "kernelspec": {
   "display_name": "Python 3",
   "language": "python",
   "name": "python3"
  },
  "language_info": {
   "codemirror_mode": {
    "name": "ipython",
    "version": 3
   },
   "file_extension": ".py",
   "mimetype": "text/x-python",
   "name": "python",
   "nbconvert_exporter": "python",
   "pygments_lexer": "ipython3",
   "version": "3.7.10"
  }
 },
 "nbformat": 4,
 "nbformat_minor": 5
}
