{
 "cells": [
  {
   "cell_type": "markdown",
   "id": "oriented-chicago",
   "metadata": {
    "papermill": {
     "duration": 0.045744,
     "end_time": "2021-05-23T18:07:46.093137",
     "exception": false,
     "start_time": "2021-05-23T18:07:46.047393",
     "status": "completed"
    },
    "tags": []
   },
   "source": [
    "# Student Result Prediction"
   ]
  },
  {
   "cell_type": "markdown",
   "id": "sporting-indianapolis",
   "metadata": {
    "papermill": {
     "duration": 0.044177,
     "end_time": "2021-05-23T18:07:46.182379",
     "exception": false,
     "start_time": "2021-05-23T18:07:46.138202",
     "status": "completed"
    },
    "tags": []
   },
   "source": [
    "<img src=\"https://cache.careers360.mobi/media/presets/860X430/article_images/2020/7/15/CBSE-Class-10-result-2020-statistics.jpg\"> \n"
   ]
  },
  {
   "cell_type": "markdown",
   "id": "economic-brass",
   "metadata": {
    "papermill": {
     "duration": 0.04445,
     "end_time": "2021-05-23T18:07:46.271320",
     "exception": false,
     "start_time": "2021-05-23T18:07:46.226870",
     "status": "completed"
    },
    "tags": []
   },
   "source": [
    "Story :\n",
    "Prediction of next semester cgpa is very difficult. Prediction of next semester cgpa can be done by analyzing the past performance of a student.\n",
    "\n",
    "Data collection :\n",
    "This data has been collected manually from a website of a Technical University. Roll number has been converted to a random number for the privacy of the students. College code and subject is real and the semester cgpa is also a real world dataset.\n",
    "\n",
    "Solution :\n",
    "Prediction of the next semester marks can be determined by using machine learning algorithms. In my point of view advance regression technique can be a good performer for this case.\n",
    "\n"
   ]
  },
  {
   "cell_type": "markdown",
   "id": "alone-architecture",
   "metadata": {
    "papermill": {
     "duration": 0.044271,
     "end_time": "2021-05-23T18:07:46.360078",
     "exception": false,
     "start_time": "2021-05-23T18:07:46.315807",
     "status": "completed"
    },
    "tags": []
   },
   "source": [
    "<img src = \"https://www.rvcj.com/wp-content/uploads/2014/12/Exam.png\" />"
   ]
  },
  {
   "cell_type": "markdown",
   "id": "higher-toyota",
   "metadata": {
    "papermill": {
     "duration": 0.045909,
     "end_time": "2021-05-23T18:07:46.452598",
     "exception": false,
     "start_time": "2021-05-23T18:07:46.406689",
     "status": "completed"
    },
    "tags": []
   },
   "source": [
    "# Importing Libraries for work"
   ]
  },
  {
   "cell_type": "code",
   "execution_count": 1,
   "id": "suitable-stadium",
   "metadata": {
    "execution": {
     "iopub.execute_input": "2021-05-23T18:07:46.549207Z",
     "iopub.status.busy": "2021-05-23T18:07:46.547783Z",
     "iopub.status.idle": "2021-05-23T18:07:48.688895Z",
     "shell.execute_reply": "2021-05-23T18:07:48.689414Z",
     "shell.execute_reply.started": "2021-05-23T18:06:17.263265Z"
    },
    "papermill": {
     "duration": 2.191109,
     "end_time": "2021-05-23T18:07:48.689729",
     "exception": false,
     "start_time": "2021-05-23T18:07:46.498620",
     "status": "completed"
    },
    "tags": []
   },
   "outputs": [],
   "source": [
    "import numpy as np \n",
    "import matplotlib.pyplot as plt\n",
    "import plotly as p \n",
    "import seaborn as sns\n",
    "import pandas as pd \n",
    "\n",
    "import warnings\n",
    "warnings.filterwarnings(\"ignore\")\n",
    "\n",
    "import plotly.express as px "
   ]
  },
  {
   "cell_type": "markdown",
   "id": "listed-cabinet",
   "metadata": {
    "papermill": {
     "duration": 0.044469,
     "end_time": "2021-05-23T18:07:48.780142",
     "exception": false,
     "start_time": "2021-05-23T18:07:48.735673",
     "status": "completed"
    },
    "tags": []
   },
   "source": [
    "# Reading Data From the Datasetm"
   ]
  },
  {
   "cell_type": "code",
   "execution_count": 2,
   "id": "efficient-motion",
   "metadata": {
    "execution": {
     "iopub.execute_input": "2021-05-23T18:07:48.873461Z",
     "iopub.status.busy": "2021-05-23T18:07:48.872823Z",
     "iopub.status.idle": "2021-05-23T18:07:48.912041Z",
     "shell.execute_reply": "2021-05-23T18:07:48.912594Z",
     "shell.execute_reply.started": "2021-05-23T18:06:17.270184Z"
    },
    "papermill": {
     "duration": 0.087513,
     "end_time": "2021-05-23T18:07:48.912793",
     "exception": false,
     "start_time": "2021-05-23T18:07:48.825280",
     "status": "completed"
    },
    "tags": []
   },
   "outputs": [],
   "source": [
    "df = pd.read_csv(\"data.csv\") "
   ]
  },
  {
   "cell_type": "markdown",
   "id": "residential-effectiveness",
   "metadata": {
    "papermill": {
     "duration": 0.062432,
     "end_time": "2021-05-23T18:07:49.031734",
     "exception": false,
     "start_time": "2021-05-23T18:07:48.969302",
     "status": "completed"
    },
    "tags": []
   },
   "source": [
    "# View the Data"
   ]
  },
  {
   "cell_type": "code",
   "execution_count": 3,
   "id": "periodic-salvation",
   "metadata": {
    "execution": {
     "iopub.execute_input": "2021-05-23T18:07:49.126173Z",
     "iopub.status.busy": "2021-05-23T18:07:49.125523Z",
     "iopub.status.idle": "2021-05-23T18:07:49.163971Z",
     "shell.execute_reply": "2021-05-23T18:07:49.163437Z",
     "shell.execute_reply.started": "2021-05-23T18:06:17.286906Z"
    },
    "papermill": {
     "duration": 0.086058,
     "end_time": "2021-05-23T18:07:49.164120",
     "exception": false,
     "start_time": "2021-05-23T18:07:49.078062",
     "status": "completed"
    },
    "tags": []
   },
   "outputs": [
    {
     "data": {
      "text/html": [
       "<div>\n",
       "<style scoped>\n",
       "    .dataframe tbody tr th:only-of-type {\n",
       "        vertical-align: middle;\n",
       "    }\n",
       "\n",
       "    .dataframe tbody tr th {\n",
       "        vertical-align: top;\n",
       "    }\n",
       "\n",
       "    .dataframe thead th {\n",
       "        text-align: right;\n",
       "    }\n",
       "</style>\n",
       "<table border=\"1\" class=\"dataframe\">\n",
       "  <thead>\n",
       "    <tr style=\"text-align: right;\">\n",
       "      <th></th>\n",
       "      <th>1st</th>\n",
       "      <th>2nd</th>\n",
       "      <th>3rd</th>\n",
       "      <th>4th</th>\n",
       "      <th>5th</th>\n",
       "      <th>College Code</th>\n",
       "      <th>Gender</th>\n",
       "      <th>Roll</th>\n",
       "      <th>Roll no.</th>\n",
       "      <th>Subject Code</th>\n",
       "    </tr>\n",
       "  </thead>\n",
       "  <tbody>\n",
       "    <tr>\n",
       "      <th>0</th>\n",
       "      <td>8.11</td>\n",
       "      <td>7.68</td>\n",
       "      <td>7.11</td>\n",
       "      <td>7.43</td>\n",
       "      <td>8.18</td>\n",
       "      <td>115</td>\n",
       "      <td>Female</td>\n",
       "      <td>NaN</td>\n",
       "      <td>17020.0</td>\n",
       "      <td>16</td>\n",
       "    </tr>\n",
       "    <tr>\n",
       "      <th>1</th>\n",
       "      <td>6.48</td>\n",
       "      <td>5.90</td>\n",
       "      <td>4.15</td>\n",
       "      <td>4.29</td>\n",
       "      <td>4.96</td>\n",
       "      <td>115</td>\n",
       "      <td>Male</td>\n",
       "      <td>NaN</td>\n",
       "      <td>17021.0</td>\n",
       "      <td>16</td>\n",
       "    </tr>\n",
       "    <tr>\n",
       "      <th>2</th>\n",
       "      <td>8.41</td>\n",
       "      <td>8.24</td>\n",
       "      <td>7.52</td>\n",
       "      <td>8.25</td>\n",
       "      <td>7.75</td>\n",
       "      <td>115</td>\n",
       "      <td>Female</td>\n",
       "      <td>NaN</td>\n",
       "      <td>17022.0</td>\n",
       "      <td>16</td>\n",
       "    </tr>\n",
       "    <tr>\n",
       "      <th>3</th>\n",
       "      <td>7.33</td>\n",
       "      <td>6.83</td>\n",
       "      <td>6.33</td>\n",
       "      <td>6.79</td>\n",
       "      <td>6.89</td>\n",
       "      <td>115</td>\n",
       "      <td>Male</td>\n",
       "      <td>NaN</td>\n",
       "      <td>17023.0</td>\n",
       "      <td>16</td>\n",
       "    </tr>\n",
       "    <tr>\n",
       "      <th>4</th>\n",
       "      <td>7.89</td>\n",
       "      <td>7.34</td>\n",
       "      <td>7.22</td>\n",
       "      <td>7.32</td>\n",
       "      <td>7.46</td>\n",
       "      <td>115</td>\n",
       "      <td>Male</td>\n",
       "      <td>NaN</td>\n",
       "      <td>17024.0</td>\n",
       "      <td>16</td>\n",
       "    </tr>\n",
       "  </tbody>\n",
       "</table>\n",
       "</div>"
      ],
      "text/plain": [
       "    1st   2nd   3rd   4th   5th  College Code  Gender  Roll  Roll no.  \\\n",
       "0  8.11  7.68  7.11  7.43  8.18           115  Female   NaN   17020.0   \n",
       "1  6.48  5.90  4.15  4.29  4.96           115    Male   NaN   17021.0   \n",
       "2  8.41  8.24  7.52  8.25  7.75           115  Female   NaN   17022.0   \n",
       "3  7.33  6.83  6.33  6.79  6.89           115    Male   NaN   17023.0   \n",
       "4  7.89  7.34  7.22  7.32  7.46           115    Male   NaN   17024.0   \n",
       "\n",
       "   Subject Code  \n",
       "0            16  \n",
       "1            16  \n",
       "2            16  \n",
       "3            16  \n",
       "4            16  "
      ]
     },
     "execution_count": 3,
     "metadata": {},
     "output_type": "execute_result"
    }
   ],
   "source": [
    "df.head()"
   ]
  },
  {
   "cell_type": "code",
   "execution_count": 4,
   "id": "instrumental-thought",
   "metadata": {
    "execution": {
     "iopub.execute_input": "2021-05-23T18:07:49.273080Z",
     "iopub.status.busy": "2021-05-23T18:07:49.272415Z",
     "iopub.status.idle": "2021-05-23T18:07:49.276154Z",
     "shell.execute_reply": "2021-05-23T18:07:49.276640Z",
     "shell.execute_reply.started": "2021-05-23T18:06:17.305790Z"
    },
    "papermill": {
     "duration": 0.066908,
     "end_time": "2021-05-23T18:07:49.276812",
     "exception": false,
     "start_time": "2021-05-23T18:07:49.209904",
     "status": "completed"
    },
    "tags": []
   },
   "outputs": [
    {
     "data": {
      "text/html": [
       "<div>\n",
       "<style scoped>\n",
       "    .dataframe tbody tr th:only-of-type {\n",
       "        vertical-align: middle;\n",
       "    }\n",
       "\n",
       "    .dataframe tbody tr th {\n",
       "        vertical-align: top;\n",
       "    }\n",
       "\n",
       "    .dataframe thead th {\n",
       "        text-align: right;\n",
       "    }\n",
       "</style>\n",
       "<table border=\"1\" class=\"dataframe\">\n",
       "  <thead>\n",
       "    <tr style=\"text-align: right;\">\n",
       "      <th></th>\n",
       "      <th>1st</th>\n",
       "      <th>2nd</th>\n",
       "      <th>3rd</th>\n",
       "      <th>4th</th>\n",
       "      <th>5th</th>\n",
       "      <th>College Code</th>\n",
       "      <th>Gender</th>\n",
       "      <th>Roll</th>\n",
       "      <th>Roll no.</th>\n",
       "      <th>Subject Code</th>\n",
       "    </tr>\n",
       "  </thead>\n",
       "  <tbody>\n",
       "    <tr>\n",
       "      <th>173</th>\n",
       "      <td>7.48</td>\n",
       "      <td>7.55</td>\n",
       "      <td>7.67</td>\n",
       "      <td>7.39</td>\n",
       "      <td>8.65</td>\n",
       "      <td>241</td>\n",
       "      <td>F</td>\n",
       "      <td>17048.0</td>\n",
       "      <td>NaN</td>\n",
       "      <td>28</td>\n",
       "    </tr>\n",
       "    <tr>\n",
       "      <th>174</th>\n",
       "      <td>7.30</td>\n",
       "      <td>6.41</td>\n",
       "      <td>6.59</td>\n",
       "      <td>7.11</td>\n",
       "      <td>7.38</td>\n",
       "      <td>241</td>\n",
       "      <td>M</td>\n",
       "      <td>17049.0</td>\n",
       "      <td>NaN</td>\n",
       "      <td>28</td>\n",
       "    </tr>\n",
       "    <tr>\n",
       "      <th>175</th>\n",
       "      <td>6.30</td>\n",
       "      <td>6.28</td>\n",
       "      <td>5.89</td>\n",
       "      <td>5.71</td>\n",
       "      <td>6.50</td>\n",
       "      <td>241</td>\n",
       "      <td>M</td>\n",
       "      <td>17050.0</td>\n",
       "      <td>NaN</td>\n",
       "      <td>28</td>\n",
       "    </tr>\n",
       "    <tr>\n",
       "      <th>176</th>\n",
       "      <td>7.04</td>\n",
       "      <td>7.10</td>\n",
       "      <td>6.81</td>\n",
       "      <td>7.00</td>\n",
       "      <td>6.92</td>\n",
       "      <td>241</td>\n",
       "      <td>M</td>\n",
       "      <td>17051.0</td>\n",
       "      <td>NaN</td>\n",
       "      <td>28</td>\n",
       "    </tr>\n",
       "    <tr>\n",
       "      <th>177</th>\n",
       "      <td>6.70</td>\n",
       "      <td>6.81</td>\n",
       "      <td>6.52</td>\n",
       "      <td>5.39</td>\n",
       "      <td>7.00</td>\n",
       "      <td>241</td>\n",
       "      <td>M</td>\n",
       "      <td>17052.0</td>\n",
       "      <td>NaN</td>\n",
       "      <td>28</td>\n",
       "    </tr>\n",
       "  </tbody>\n",
       "</table>\n",
       "</div>"
      ],
      "text/plain": [
       "      1st   2nd   3rd   4th   5th  College Code Gender     Roll  Roll no.  \\\n",
       "173  7.48  7.55  7.67  7.39  8.65           241      F  17048.0       NaN   \n",
       "174  7.30  6.41  6.59  7.11  7.38           241      M  17049.0       NaN   \n",
       "175  6.30  6.28  5.89  5.71  6.50           241      M  17050.0       NaN   \n",
       "176  7.04  7.10  6.81  7.00  6.92           241      M  17051.0       NaN   \n",
       "177  6.70  6.81  6.52  5.39  7.00           241      M  17052.0       NaN   \n",
       "\n",
       "     Subject Code  \n",
       "173            28  \n",
       "174            28  \n",
       "175            28  \n",
       "176            28  \n",
       "177            28  "
      ]
     },
     "execution_count": 4,
     "metadata": {},
     "output_type": "execute_result"
    }
   ],
   "source": [
    "df.tail()"
   ]
  },
  {
   "cell_type": "code",
   "execution_count": 5,
   "id": "forty-diabetes",
   "metadata": {
    "execution": {
     "iopub.execute_input": "2021-05-23T18:07:49.372184Z",
     "iopub.status.busy": "2021-05-23T18:07:49.371494Z",
     "iopub.status.idle": "2021-05-23T18:07:49.375976Z",
     "shell.execute_reply": "2021-05-23T18:07:49.376489Z",
     "shell.execute_reply.started": "2021-05-23T18:06:17.329336Z"
    },
    "papermill": {
     "duration": 0.053519,
     "end_time": "2021-05-23T18:07:49.376664",
     "exception": false,
     "start_time": "2021-05-23T18:07:49.323145",
     "status": "completed"
    },
    "tags": []
   },
   "outputs": [
    {
     "data": {
      "text/plain": [
       "(178, 10)"
      ]
     },
     "execution_count": 5,
     "metadata": {},
     "output_type": "execute_result"
    }
   ],
   "source": [
    "df.shape    # View the Dimensions of the data. "
   ]
  },
  {
   "cell_type": "code",
   "execution_count": 6,
   "id": "detailed-domestic",
   "metadata": {
    "execution": {
     "iopub.execute_input": "2021-05-23T18:07:49.474744Z",
     "iopub.status.busy": "2021-05-23T18:07:49.474070Z",
     "iopub.status.idle": "2021-05-23T18:07:49.517655Z",
     "shell.execute_reply": "2021-05-23T18:07:49.516988Z",
     "shell.execute_reply.started": "2021-05-23T18:06:17.335928Z"
    },
    "papermill": {
     "duration": 0.094273,
     "end_time": "2021-05-23T18:07:49.517812",
     "exception": false,
     "start_time": "2021-05-23T18:07:49.423539",
     "status": "completed"
    },
    "tags": []
   },
   "outputs": [
    {
     "data": {
      "text/html": [
       "<div>\n",
       "<style scoped>\n",
       "    .dataframe tbody tr th:only-of-type {\n",
       "        vertical-align: middle;\n",
       "    }\n",
       "\n",
       "    .dataframe tbody tr th {\n",
       "        vertical-align: top;\n",
       "    }\n",
       "\n",
       "    .dataframe thead th {\n",
       "        text-align: right;\n",
       "    }\n",
       "</style>\n",
       "<table border=\"1\" class=\"dataframe\">\n",
       "  <thead>\n",
       "    <tr style=\"text-align: right;\">\n",
       "      <th></th>\n",
       "      <th>1st</th>\n",
       "      <th>2nd</th>\n",
       "      <th>3rd</th>\n",
       "      <th>4th</th>\n",
       "      <th>5th</th>\n",
       "      <th>College Code</th>\n",
       "      <th>Roll</th>\n",
       "      <th>Roll no.</th>\n",
       "      <th>Subject Code</th>\n",
       "    </tr>\n",
       "  </thead>\n",
       "  <tbody>\n",
       "    <tr>\n",
       "      <th>count</th>\n",
       "      <td>176.000000</td>\n",
       "      <td>174.000000</td>\n",
       "      <td>176.00000</td>\n",
       "      <td>173.000000</td>\n",
       "      <td>172.000000</td>\n",
       "      <td>178.000000</td>\n",
       "      <td>132.000000</td>\n",
       "      <td>46.000000</td>\n",
       "      <td>178.000000</td>\n",
       "    </tr>\n",
       "    <tr>\n",
       "      <th>mean</th>\n",
       "      <td>7.038864</td>\n",
       "      <td>6.943391</td>\n",
       "      <td>6.62250</td>\n",
       "      <td>7.027746</td>\n",
       "      <td>7.432558</td>\n",
       "      <td>152.983146</td>\n",
       "      <td>17040.666667</td>\n",
       "      <td>17042.500000</td>\n",
       "      <td>18.359551</td>\n",
       "    </tr>\n",
       "    <tr>\n",
       "      <th>std</th>\n",
       "      <td>0.859521</td>\n",
       "      <td>0.881088</td>\n",
       "      <td>0.91926</td>\n",
       "      <td>1.035675</td>\n",
       "      <td>1.068866</td>\n",
       "      <td>48.357599</td>\n",
       "      <td>13.622874</td>\n",
       "      <td>13.422618</td>\n",
       "      <td>4.782849</td>\n",
       "    </tr>\n",
       "    <tr>\n",
       "      <th>min</th>\n",
       "      <td>3.850000</td>\n",
       "      <td>3.900000</td>\n",
       "      <td>3.96000</td>\n",
       "      <td>4.290000</td>\n",
       "      <td>4.000000</td>\n",
       "      <td>115.000000</td>\n",
       "      <td>17017.000000</td>\n",
       "      <td>17020.000000</td>\n",
       "      <td>16.000000</td>\n",
       "    </tr>\n",
       "    <tr>\n",
       "      <th>25%</th>\n",
       "      <td>6.440000</td>\n",
       "      <td>6.380000</td>\n",
       "      <td>6.14000</td>\n",
       "      <td>6.330000</td>\n",
       "      <td>6.750000</td>\n",
       "      <td>115.000000</td>\n",
       "      <td>17029.000000</td>\n",
       "      <td>17031.250000</td>\n",
       "      <td>16.000000</td>\n",
       "    </tr>\n",
       "    <tr>\n",
       "      <th>50%</th>\n",
       "      <td>7.070000</td>\n",
       "      <td>6.800000</td>\n",
       "      <td>6.68500</td>\n",
       "      <td>7.070000</td>\n",
       "      <td>7.590000</td>\n",
       "      <td>116.000000</td>\n",
       "      <td>17040.000000</td>\n",
       "      <td>17042.500000</td>\n",
       "      <td>16.000000</td>\n",
       "    </tr>\n",
       "    <tr>\n",
       "      <th>75%</th>\n",
       "      <td>7.590000</td>\n",
       "      <td>7.612500</td>\n",
       "      <td>7.26000</td>\n",
       "      <td>7.860000</td>\n",
       "      <td>8.210000</td>\n",
       "      <td>165.000000</td>\n",
       "      <td>17051.000000</td>\n",
       "      <td>17053.750000</td>\n",
       "      <td>16.000000</td>\n",
       "    </tr>\n",
       "    <tr>\n",
       "      <th>max</th>\n",
       "      <td>9.150000</td>\n",
       "      <td>9.210000</td>\n",
       "      <td>9.59000</td>\n",
       "      <td>9.310000</td>\n",
       "      <td>9.460000</td>\n",
       "      <td>241.000000</td>\n",
       "      <td>17067.000000</td>\n",
       "      <td>17065.000000</td>\n",
       "      <td>28.000000</td>\n",
       "    </tr>\n",
       "  </tbody>\n",
       "</table>\n",
       "</div>"
      ],
      "text/plain": [
       "              1st         2nd        3rd         4th         5th  \\\n",
       "count  176.000000  174.000000  176.00000  173.000000  172.000000   \n",
       "mean     7.038864    6.943391    6.62250    7.027746    7.432558   \n",
       "std      0.859521    0.881088    0.91926    1.035675    1.068866   \n",
       "min      3.850000    3.900000    3.96000    4.290000    4.000000   \n",
       "25%      6.440000    6.380000    6.14000    6.330000    6.750000   \n",
       "50%      7.070000    6.800000    6.68500    7.070000    7.590000   \n",
       "75%      7.590000    7.612500    7.26000    7.860000    8.210000   \n",
       "max      9.150000    9.210000    9.59000    9.310000    9.460000   \n",
       "\n",
       "       College Code          Roll      Roll no.  Subject Code  \n",
       "count    178.000000    132.000000     46.000000    178.000000  \n",
       "mean     152.983146  17040.666667  17042.500000     18.359551  \n",
       "std       48.357599     13.622874     13.422618      4.782849  \n",
       "min      115.000000  17017.000000  17020.000000     16.000000  \n",
       "25%      115.000000  17029.000000  17031.250000     16.000000  \n",
       "50%      116.000000  17040.000000  17042.500000     16.000000  \n",
       "75%      165.000000  17051.000000  17053.750000     16.000000  \n",
       "max      241.000000  17067.000000  17065.000000     28.000000  "
      ]
     },
     "execution_count": 6,
     "metadata": {},
     "output_type": "execute_result"
    }
   ],
   "source": [
    "df.describe()   # View the Statistical Summary of the Data.  "
   ]
  },
  {
   "cell_type": "code",
   "execution_count": 7,
   "id": "tired-buyer",
   "metadata": {
    "execution": {
     "iopub.execute_input": "2021-05-23T18:07:49.627745Z",
     "iopub.status.busy": "2021-05-23T18:07:49.625499Z",
     "iopub.status.idle": "2021-05-23T18:07:49.664304Z",
     "shell.execute_reply": "2021-05-23T18:07:49.663736Z",
     "shell.execute_reply.started": "2021-05-23T18:06:17.379585Z"
    },
    "papermill": {
     "duration": 0.095416,
     "end_time": "2021-05-23T18:07:49.664458",
     "exception": false,
     "start_time": "2021-05-23T18:07:49.569042",
     "status": "completed"
    },
    "tags": []
   },
   "outputs": [
    {
     "data": {
      "text/html": [
       "<div>\n",
       "<style scoped>\n",
       "    .dataframe tbody tr th:only-of-type {\n",
       "        vertical-align: middle;\n",
       "    }\n",
       "\n",
       "    .dataframe tbody tr th {\n",
       "        vertical-align: top;\n",
       "    }\n",
       "\n",
       "    .dataframe thead th {\n",
       "        text-align: right;\n",
       "    }\n",
       "</style>\n",
       "<table border=\"1\" class=\"dataframe\">\n",
       "  <thead>\n",
       "    <tr style=\"text-align: right;\">\n",
       "      <th></th>\n",
       "      <th>count</th>\n",
       "      <th>mean</th>\n",
       "      <th>std</th>\n",
       "      <th>min</th>\n",
       "      <th>25%</th>\n",
       "      <th>50%</th>\n",
       "      <th>75%</th>\n",
       "      <th>max</th>\n",
       "    </tr>\n",
       "  </thead>\n",
       "  <tbody>\n",
       "    <tr>\n",
       "      <th>1st</th>\n",
       "      <td>176.0</td>\n",
       "      <td>7.038864</td>\n",
       "      <td>0.859521</td>\n",
       "      <td>3.85</td>\n",
       "      <td>6.44</td>\n",
       "      <td>7.070</td>\n",
       "      <td>7.5900</td>\n",
       "      <td>9.15</td>\n",
       "    </tr>\n",
       "    <tr>\n",
       "      <th>2nd</th>\n",
       "      <td>174.0</td>\n",
       "      <td>6.943391</td>\n",
       "      <td>0.881088</td>\n",
       "      <td>3.90</td>\n",
       "      <td>6.38</td>\n",
       "      <td>6.800</td>\n",
       "      <td>7.6125</td>\n",
       "      <td>9.21</td>\n",
       "    </tr>\n",
       "    <tr>\n",
       "      <th>3rd</th>\n",
       "      <td>176.0</td>\n",
       "      <td>6.622500</td>\n",
       "      <td>0.919260</td>\n",
       "      <td>3.96</td>\n",
       "      <td>6.14</td>\n",
       "      <td>6.685</td>\n",
       "      <td>7.2600</td>\n",
       "      <td>9.59</td>\n",
       "    </tr>\n",
       "    <tr>\n",
       "      <th>4th</th>\n",
       "      <td>173.0</td>\n",
       "      <td>7.027746</td>\n",
       "      <td>1.035675</td>\n",
       "      <td>4.29</td>\n",
       "      <td>6.33</td>\n",
       "      <td>7.070</td>\n",
       "      <td>7.8600</td>\n",
       "      <td>9.31</td>\n",
       "    </tr>\n",
       "    <tr>\n",
       "      <th>5th</th>\n",
       "      <td>172.0</td>\n",
       "      <td>7.432558</td>\n",
       "      <td>1.068866</td>\n",
       "      <td>4.00</td>\n",
       "      <td>6.75</td>\n",
       "      <td>7.590</td>\n",
       "      <td>8.2100</td>\n",
       "      <td>9.46</td>\n",
       "    </tr>\n",
       "    <tr>\n",
       "      <th>College Code</th>\n",
       "      <td>178.0</td>\n",
       "      <td>152.983146</td>\n",
       "      <td>48.357599</td>\n",
       "      <td>115.00</td>\n",
       "      <td>115.00</td>\n",
       "      <td>116.000</td>\n",
       "      <td>165.0000</td>\n",
       "      <td>241.00</td>\n",
       "    </tr>\n",
       "    <tr>\n",
       "      <th>Roll</th>\n",
       "      <td>132.0</td>\n",
       "      <td>17040.666667</td>\n",
       "      <td>13.622874</td>\n",
       "      <td>17017.00</td>\n",
       "      <td>17029.00</td>\n",
       "      <td>17040.000</td>\n",
       "      <td>17051.0000</td>\n",
       "      <td>17067.00</td>\n",
       "    </tr>\n",
       "    <tr>\n",
       "      <th>Roll no.</th>\n",
       "      <td>46.0</td>\n",
       "      <td>17042.500000</td>\n",
       "      <td>13.422618</td>\n",
       "      <td>17020.00</td>\n",
       "      <td>17031.25</td>\n",
       "      <td>17042.500</td>\n",
       "      <td>17053.7500</td>\n",
       "      <td>17065.00</td>\n",
       "    </tr>\n",
       "    <tr>\n",
       "      <th>Subject Code</th>\n",
       "      <td>178.0</td>\n",
       "      <td>18.359551</td>\n",
       "      <td>4.782849</td>\n",
       "      <td>16.00</td>\n",
       "      <td>16.00</td>\n",
       "      <td>16.000</td>\n",
       "      <td>16.0000</td>\n",
       "      <td>28.00</td>\n",
       "    </tr>\n",
       "  </tbody>\n",
       "</table>\n",
       "</div>"
      ],
      "text/plain": [
       "              count          mean        std       min       25%        50%  \\\n",
       "1st           176.0      7.038864   0.859521      3.85      6.44      7.070   \n",
       "2nd           174.0      6.943391   0.881088      3.90      6.38      6.800   \n",
       "3rd           176.0      6.622500   0.919260      3.96      6.14      6.685   \n",
       "4th           173.0      7.027746   1.035675      4.29      6.33      7.070   \n",
       "5th           172.0      7.432558   1.068866      4.00      6.75      7.590   \n",
       "College Code  178.0    152.983146  48.357599    115.00    115.00    116.000   \n",
       "Roll          132.0  17040.666667  13.622874  17017.00  17029.00  17040.000   \n",
       "Roll no.       46.0  17042.500000  13.422618  17020.00  17031.25  17042.500   \n",
       "Subject Code  178.0     18.359551   4.782849     16.00     16.00     16.000   \n",
       "\n",
       "                     75%       max  \n",
       "1st               7.5900      9.15  \n",
       "2nd               7.6125      9.21  \n",
       "3rd               7.2600      9.59  \n",
       "4th               7.8600      9.31  \n",
       "5th               8.2100      9.46  \n",
       "College Code    165.0000    241.00  \n",
       "Roll          17051.0000  17067.00  \n",
       "Roll no.      17053.7500  17065.00  \n",
       "Subject Code     16.0000     28.00  "
      ]
     },
     "execution_count": 7,
     "metadata": {},
     "output_type": "execute_result"
    }
   ],
   "source": [
    "df.describe().T   # Transpose of the Statistical summary view. "
   ]
  },
  {
   "cell_type": "code",
   "execution_count": 8,
   "id": "prescription-sharing",
   "metadata": {
    "execution": {
     "iopub.execute_input": "2021-05-23T18:07:49.775851Z",
     "iopub.status.busy": "2021-05-23T18:07:49.771165Z",
     "iopub.status.idle": "2021-05-23T18:07:49.810277Z",
     "shell.execute_reply": "2021-05-23T18:07:49.809429Z",
     "shell.execute_reply.started": "2021-05-23T18:06:17.413797Z"
    },
    "papermill": {
     "duration": 0.094311,
     "end_time": "2021-05-23T18:07:49.810452",
     "exception": false,
     "start_time": "2021-05-23T18:07:49.716141",
     "status": "completed"
    },
    "tags": []
   },
   "outputs": [
    {
     "data": {
      "text/html": [
       "<div>\n",
       "<style scoped>\n",
       "    .dataframe tbody tr th:only-of-type {\n",
       "        vertical-align: middle;\n",
       "    }\n",
       "\n",
       "    .dataframe tbody tr th {\n",
       "        vertical-align: top;\n",
       "    }\n",
       "\n",
       "    .dataframe thead th {\n",
       "        text-align: right;\n",
       "    }\n",
       "</style>\n",
       "<table border=\"1\" class=\"dataframe\">\n",
       "  <thead>\n",
       "    <tr style=\"text-align: right;\">\n",
       "      <th></th>\n",
       "      <th>1st</th>\n",
       "      <th>2nd</th>\n",
       "      <th>3rd</th>\n",
       "      <th>4th</th>\n",
       "      <th>5th</th>\n",
       "      <th>College Code</th>\n",
       "      <th>Roll</th>\n",
       "      <th>Roll no.</th>\n",
       "      <th>Subject Code</th>\n",
       "    </tr>\n",
       "  </thead>\n",
       "  <tbody>\n",
       "    <tr>\n",
       "      <th>count</th>\n",
       "      <td>176.00</td>\n",
       "      <td>174.00</td>\n",
       "      <td>176.00</td>\n",
       "      <td>173.00</td>\n",
       "      <td>172.00</td>\n",
       "      <td>178.00</td>\n",
       "      <td>132.00</td>\n",
       "      <td>46.00</td>\n",
       "      <td>178.00</td>\n",
       "    </tr>\n",
       "    <tr>\n",
       "      <th>mean</th>\n",
       "      <td>7.04</td>\n",
       "      <td>6.94</td>\n",
       "      <td>6.62</td>\n",
       "      <td>7.03</td>\n",
       "      <td>7.43</td>\n",
       "      <td>152.98</td>\n",
       "      <td>17040.67</td>\n",
       "      <td>17042.50</td>\n",
       "      <td>18.36</td>\n",
       "    </tr>\n",
       "    <tr>\n",
       "      <th>std</th>\n",
       "      <td>0.86</td>\n",
       "      <td>0.88</td>\n",
       "      <td>0.92</td>\n",
       "      <td>1.04</td>\n",
       "      <td>1.07</td>\n",
       "      <td>48.36</td>\n",
       "      <td>13.62</td>\n",
       "      <td>13.42</td>\n",
       "      <td>4.78</td>\n",
       "    </tr>\n",
       "    <tr>\n",
       "      <th>min</th>\n",
       "      <td>3.85</td>\n",
       "      <td>3.90</td>\n",
       "      <td>3.96</td>\n",
       "      <td>4.29</td>\n",
       "      <td>4.00</td>\n",
       "      <td>115.00</td>\n",
       "      <td>17017.00</td>\n",
       "      <td>17020.00</td>\n",
       "      <td>16.00</td>\n",
       "    </tr>\n",
       "    <tr>\n",
       "      <th>25%</th>\n",
       "      <td>6.44</td>\n",
       "      <td>6.38</td>\n",
       "      <td>6.14</td>\n",
       "      <td>6.33</td>\n",
       "      <td>6.75</td>\n",
       "      <td>115.00</td>\n",
       "      <td>17029.00</td>\n",
       "      <td>17031.25</td>\n",
       "      <td>16.00</td>\n",
       "    </tr>\n",
       "    <tr>\n",
       "      <th>50%</th>\n",
       "      <td>7.07</td>\n",
       "      <td>6.80</td>\n",
       "      <td>6.69</td>\n",
       "      <td>7.07</td>\n",
       "      <td>7.59</td>\n",
       "      <td>116.00</td>\n",
       "      <td>17040.00</td>\n",
       "      <td>17042.50</td>\n",
       "      <td>16.00</td>\n",
       "    </tr>\n",
       "    <tr>\n",
       "      <th>75%</th>\n",
       "      <td>7.59</td>\n",
       "      <td>7.61</td>\n",
       "      <td>7.26</td>\n",
       "      <td>7.86</td>\n",
       "      <td>8.21</td>\n",
       "      <td>165.00</td>\n",
       "      <td>17051.00</td>\n",
       "      <td>17053.75</td>\n",
       "      <td>16.00</td>\n",
       "    </tr>\n",
       "    <tr>\n",
       "      <th>max</th>\n",
       "      <td>9.15</td>\n",
       "      <td>9.21</td>\n",
       "      <td>9.59</td>\n",
       "      <td>9.31</td>\n",
       "      <td>9.46</td>\n",
       "      <td>241.00</td>\n",
       "      <td>17067.00</td>\n",
       "      <td>17065.00</td>\n",
       "      <td>28.00</td>\n",
       "    </tr>\n",
       "  </tbody>\n",
       "</table>\n",
       "</div>"
      ],
      "text/plain": [
       "          1st     2nd     3rd     4th     5th  College Code      Roll  \\\n",
       "count  176.00  174.00  176.00  173.00  172.00        178.00    132.00   \n",
       "mean     7.04    6.94    6.62    7.03    7.43        152.98  17040.67   \n",
       "std      0.86    0.88    0.92    1.04    1.07         48.36     13.62   \n",
       "min      3.85    3.90    3.96    4.29    4.00        115.00  17017.00   \n",
       "25%      6.44    6.38    6.14    6.33    6.75        115.00  17029.00   \n",
       "50%      7.07    6.80    6.69    7.07    7.59        116.00  17040.00   \n",
       "75%      7.59    7.61    7.26    7.86    8.21        165.00  17051.00   \n",
       "max      9.15    9.21    9.59    9.31    9.46        241.00  17067.00   \n",
       "\n",
       "       Roll no.  Subject Code  \n",
       "count     46.00        178.00  \n",
       "mean   17042.50         18.36  \n",
       "std       13.42          4.78  \n",
       "min    17020.00         16.00  \n",
       "25%    17031.25         16.00  \n",
       "50%    17042.50         16.00  \n",
       "75%    17053.75         16.00  \n",
       "max    17065.00         28.00  "
      ]
     },
     "execution_count": 8,
     "metadata": {},
     "output_type": "execute_result"
    }
   ],
   "source": [
    "pd.set_option('precision',2)  # Just for viewing the Data More clearly. \n",
    "df.describe()"
   ]
  },
  {
   "cell_type": "code",
   "execution_count": 9,
   "id": "vanilla-queue",
   "metadata": {
    "execution": {
     "iopub.execute_input": "2021-05-23T18:07:49.928288Z",
     "iopub.status.busy": "2021-05-23T18:07:49.927536Z",
     "iopub.status.idle": "2021-05-23T18:07:49.931503Z",
     "shell.execute_reply": "2021-05-23T18:07:49.930615Z",
     "shell.execute_reply.started": "2021-05-23T18:06:17.447325Z"
    },
    "papermill": {
     "duration": 0.072211,
     "end_time": "2021-05-23T18:07:49.931707",
     "exception": false,
     "start_time": "2021-05-23T18:07:49.859496",
     "status": "completed"
    },
    "tags": []
   },
   "outputs": [
    {
     "name": "stdout",
     "output_type": "stream",
     "text": [
      "<class 'pandas.core.frame.DataFrame'>\n",
      "RangeIndex: 178 entries, 0 to 177\n",
      "Data columns (total 10 columns):\n",
      " #   Column        Non-Null Count  Dtype  \n",
      "---  ------        --------------  -----  \n",
      " 0   1st           176 non-null    float64\n",
      " 1   2nd           174 non-null    float64\n",
      " 2   3rd           176 non-null    float64\n",
      " 3   4th           173 non-null    float64\n",
      " 4   5th           172 non-null    float64\n",
      " 5   College Code  178 non-null    int64  \n",
      " 6   Gender        177 non-null    object \n",
      " 7   Roll          132 non-null    float64\n",
      " 8   Roll no.      46 non-null     float64\n",
      " 9   Subject Code  178 non-null    int64  \n",
      "dtypes: float64(7), int64(2), object(1)\n",
      "memory usage: 14.0+ KB\n"
     ]
    }
   ],
   "source": [
    "df.info()   # Data type of the Data. "
   ]
  },
  {
   "cell_type": "markdown",
   "id": "promising-norwegian",
   "metadata": {
    "papermill": {
     "duration": 0.04799,
     "end_time": "2021-05-23T18:07:50.029682",
     "exception": false,
     "start_time": "2021-05-23T18:07:49.981692",
     "status": "completed"
    },
    "tags": []
   },
   "source": [
    "- We can see there is a column name Gender which doesn't have int or float values. So, I want to see that data. "
   ]
  },
  {
   "cell_type": "code",
   "execution_count": 10,
   "id": "dimensional-joint",
   "metadata": {
    "execution": {
     "iopub.execute_input": "2021-05-23T18:07:50.134816Z",
     "iopub.status.busy": "2021-05-23T18:07:50.133709Z",
     "iopub.status.idle": "2021-05-23T18:07:50.138192Z",
     "shell.execute_reply": "2021-05-23T18:07:50.137548Z",
     "shell.execute_reply.started": "2021-05-23T18:06:17.464240Z"
    },
    "papermill": {
     "duration": 0.059818,
     "end_time": "2021-05-23T18:07:50.138334",
     "exception": false,
     "start_time": "2021-05-23T18:07:50.078516",
     "status": "completed"
    },
    "tags": []
   },
   "outputs": [
    {
     "data": {
      "text/plain": [
       "0      Female\n",
       "1        Male\n",
       "2      Female\n",
       "3        Male\n",
       "4        Male\n",
       "        ...  \n",
       "173         F\n",
       "174         M\n",
       "175         M\n",
       "176         M\n",
       "177         M\n",
       "Name: Gender, Length: 178, dtype: object"
      ]
     },
     "execution_count": 10,
     "metadata": {},
     "output_type": "execute_result"
    }
   ],
   "source": [
    "df['Gender'] "
   ]
  },
  {
   "cell_type": "markdown",
   "id": "injured-popularity",
   "metadata": {
    "papermill": {
     "duration": 0.048122,
     "end_time": "2021-05-23T18:07:50.235458",
     "exception": false,
     "start_time": "2021-05-23T18:07:50.187336",
     "status": "completed"
    },
    "tags": []
   },
   "source": [
    "- There are some values that are Female and Some are Male and others are F and M. \n",
    "So in it we have to make similar values like F for female and M for Male. "
   ]
  },
  {
   "cell_type": "code",
   "execution_count": 11,
   "id": "juvenile-register",
   "metadata": {
    "execution": {
     "iopub.execute_input": "2021-05-23T18:07:50.339490Z",
     "iopub.status.busy": "2021-05-23T18:07:50.338763Z",
     "iopub.status.idle": "2021-05-23T18:07:50.342494Z",
     "shell.execute_reply": "2021-05-23T18:07:50.341890Z",
     "shell.execute_reply.started": "2021-05-23T18:06:17.480572Z"
    },
    "papermill": {
     "duration": 0.058506,
     "end_time": "2021-05-23T18:07:50.342653",
     "exception": false,
     "start_time": "2021-05-23T18:07:50.284147",
     "status": "completed"
    },
    "tags": []
   },
   "outputs": [],
   "source": [
    "df['Gender'].replace({'Female':'F','Male':'M'},inplace=True)"
   ]
  },
  {
   "cell_type": "code",
   "execution_count": 12,
   "id": "useful-wallpaper",
   "metadata": {
    "execution": {
     "iopub.execute_input": "2021-05-23T18:07:50.448026Z",
     "iopub.status.busy": "2021-05-23T18:07:50.447365Z",
     "iopub.status.idle": "2021-05-23T18:07:50.451578Z",
     "shell.execute_reply": "2021-05-23T18:07:50.450973Z",
     "shell.execute_reply.started": "2021-05-23T18:06:17.492169Z"
    },
    "papermill": {
     "duration": 0.059998,
     "end_time": "2021-05-23T18:07:50.451726",
     "exception": false,
     "start_time": "2021-05-23T18:07:50.391728",
     "status": "completed"
    },
    "tags": []
   },
   "outputs": [
    {
     "data": {
      "text/plain": [
       "0      F\n",
       "1      M\n",
       "2      F\n",
       "3      M\n",
       "4      M\n",
       "      ..\n",
       "173    F\n",
       "174    M\n",
       "175    M\n",
       "176    M\n",
       "177    M\n",
       "Name: Gender, Length: 178, dtype: object"
      ]
     },
     "execution_count": 12,
     "metadata": {},
     "output_type": "execute_result"
    }
   ],
   "source": [
    "df['Gender']  "
   ]
  },
  {
   "cell_type": "markdown",
   "id": "rural-honduras",
   "metadata": {
    "papermill": {
     "duration": 0.049234,
     "end_time": "2021-05-23T18:07:50.549860",
     "exception": false,
     "start_time": "2021-05-23T18:07:50.500626",
     "status": "completed"
    },
    "tags": []
   },
   "source": [
    "- Now Our values of the Gender Column is set. "
   ]
  },
  {
   "cell_type": "code",
   "execution_count": 13,
   "id": "absent-instrumentation",
   "metadata": {
    "execution": {
     "iopub.execute_input": "2021-05-23T18:07:50.672883Z",
     "iopub.status.busy": "2021-05-23T18:07:50.672145Z",
     "iopub.status.idle": "2021-05-23T18:07:50.677817Z",
     "shell.execute_reply": "2021-05-23T18:07:50.677304Z",
     "shell.execute_reply.started": "2021-05-23T18:06:17.509159Z"
    },
    "papermill": {
     "duration": 0.079316,
     "end_time": "2021-05-23T18:07:50.677977",
     "exception": false,
     "start_time": "2021-05-23T18:07:50.598661",
     "status": "completed"
    },
    "tags": []
   },
   "outputs": [
    {
     "data": {
      "text/html": [
       "<div>\n",
       "<style scoped>\n",
       "    .dataframe tbody tr th:only-of-type {\n",
       "        vertical-align: middle;\n",
       "    }\n",
       "\n",
       "    .dataframe tbody tr th {\n",
       "        vertical-align: top;\n",
       "    }\n",
       "\n",
       "    .dataframe thead th {\n",
       "        text-align: right;\n",
       "    }\n",
       "</style>\n",
       "<table border=\"1\" class=\"dataframe\">\n",
       "  <thead>\n",
       "    <tr style=\"text-align: right;\">\n",
       "      <th></th>\n",
       "      <th>1st</th>\n",
       "      <th>2nd</th>\n",
       "      <th>3rd</th>\n",
       "      <th>4th</th>\n",
       "      <th>5th</th>\n",
       "      <th>College Code</th>\n",
       "      <th>Gender</th>\n",
       "      <th>Roll</th>\n",
       "      <th>Roll no.</th>\n",
       "      <th>Subject Code</th>\n",
       "    </tr>\n",
       "  </thead>\n",
       "  <tbody>\n",
       "    <tr>\n",
       "      <th>0</th>\n",
       "      <td>8.11</td>\n",
       "      <td>7.68</td>\n",
       "      <td>7.11</td>\n",
       "      <td>7.43</td>\n",
       "      <td>8.18</td>\n",
       "      <td>115</td>\n",
       "      <td>F</td>\n",
       "      <td>NaN</td>\n",
       "      <td>17020.0</td>\n",
       "      <td>16</td>\n",
       "    </tr>\n",
       "    <tr>\n",
       "      <th>1</th>\n",
       "      <td>6.48</td>\n",
       "      <td>5.90</td>\n",
       "      <td>4.15</td>\n",
       "      <td>4.29</td>\n",
       "      <td>4.96</td>\n",
       "      <td>115</td>\n",
       "      <td>M</td>\n",
       "      <td>NaN</td>\n",
       "      <td>17021.0</td>\n",
       "      <td>16</td>\n",
       "    </tr>\n",
       "    <tr>\n",
       "      <th>2</th>\n",
       "      <td>8.41</td>\n",
       "      <td>8.24</td>\n",
       "      <td>7.52</td>\n",
       "      <td>8.25</td>\n",
       "      <td>7.75</td>\n",
       "      <td>115</td>\n",
       "      <td>F</td>\n",
       "      <td>NaN</td>\n",
       "      <td>17022.0</td>\n",
       "      <td>16</td>\n",
       "    </tr>\n",
       "    <tr>\n",
       "      <th>3</th>\n",
       "      <td>7.33</td>\n",
       "      <td>6.83</td>\n",
       "      <td>6.33</td>\n",
       "      <td>6.79</td>\n",
       "      <td>6.89</td>\n",
       "      <td>115</td>\n",
       "      <td>M</td>\n",
       "      <td>NaN</td>\n",
       "      <td>17023.0</td>\n",
       "      <td>16</td>\n",
       "    </tr>\n",
       "    <tr>\n",
       "      <th>4</th>\n",
       "      <td>7.89</td>\n",
       "      <td>7.34</td>\n",
       "      <td>7.22</td>\n",
       "      <td>7.32</td>\n",
       "      <td>7.46</td>\n",
       "      <td>115</td>\n",
       "      <td>M</td>\n",
       "      <td>NaN</td>\n",
       "      <td>17024.0</td>\n",
       "      <td>16</td>\n",
       "    </tr>\n",
       "    <tr>\n",
       "      <th>...</th>\n",
       "      <td>...</td>\n",
       "      <td>...</td>\n",
       "      <td>...</td>\n",
       "      <td>...</td>\n",
       "      <td>...</td>\n",
       "      <td>...</td>\n",
       "      <td>...</td>\n",
       "      <td>...</td>\n",
       "      <td>...</td>\n",
       "      <td>...</td>\n",
       "    </tr>\n",
       "    <tr>\n",
       "      <th>173</th>\n",
       "      <td>7.48</td>\n",
       "      <td>7.55</td>\n",
       "      <td>7.67</td>\n",
       "      <td>7.39</td>\n",
       "      <td>8.65</td>\n",
       "      <td>241</td>\n",
       "      <td>F</td>\n",
       "      <td>17048.0</td>\n",
       "      <td>NaN</td>\n",
       "      <td>28</td>\n",
       "    </tr>\n",
       "    <tr>\n",
       "      <th>174</th>\n",
       "      <td>7.30</td>\n",
       "      <td>6.41</td>\n",
       "      <td>6.59</td>\n",
       "      <td>7.11</td>\n",
       "      <td>7.38</td>\n",
       "      <td>241</td>\n",
       "      <td>M</td>\n",
       "      <td>17049.0</td>\n",
       "      <td>NaN</td>\n",
       "      <td>28</td>\n",
       "    </tr>\n",
       "    <tr>\n",
       "      <th>175</th>\n",
       "      <td>6.30</td>\n",
       "      <td>6.28</td>\n",
       "      <td>5.89</td>\n",
       "      <td>5.71</td>\n",
       "      <td>6.50</td>\n",
       "      <td>241</td>\n",
       "      <td>M</td>\n",
       "      <td>17050.0</td>\n",
       "      <td>NaN</td>\n",
       "      <td>28</td>\n",
       "    </tr>\n",
       "    <tr>\n",
       "      <th>176</th>\n",
       "      <td>7.04</td>\n",
       "      <td>7.10</td>\n",
       "      <td>6.81</td>\n",
       "      <td>7.00</td>\n",
       "      <td>6.92</td>\n",
       "      <td>241</td>\n",
       "      <td>M</td>\n",
       "      <td>17051.0</td>\n",
       "      <td>NaN</td>\n",
       "      <td>28</td>\n",
       "    </tr>\n",
       "    <tr>\n",
       "      <th>177</th>\n",
       "      <td>6.70</td>\n",
       "      <td>6.81</td>\n",
       "      <td>6.52</td>\n",
       "      <td>5.39</td>\n",
       "      <td>7.00</td>\n",
       "      <td>241</td>\n",
       "      <td>M</td>\n",
       "      <td>17052.0</td>\n",
       "      <td>NaN</td>\n",
       "      <td>28</td>\n",
       "    </tr>\n",
       "  </tbody>\n",
       "</table>\n",
       "<p>178 rows × 10 columns</p>\n",
       "</div>"
      ],
      "text/plain": [
       "      1st   2nd   3rd   4th   5th  College Code Gender     Roll  Roll no.  \\\n",
       "0    8.11  7.68  7.11  7.43  8.18           115      F      NaN   17020.0   \n",
       "1    6.48  5.90  4.15  4.29  4.96           115      M      NaN   17021.0   \n",
       "2    8.41  8.24  7.52  8.25  7.75           115      F      NaN   17022.0   \n",
       "3    7.33  6.83  6.33  6.79  6.89           115      M      NaN   17023.0   \n",
       "4    7.89  7.34  7.22  7.32  7.46           115      M      NaN   17024.0   \n",
       "..    ...   ...   ...   ...   ...           ...    ...      ...       ...   \n",
       "173  7.48  7.55  7.67  7.39  8.65           241      F  17048.0       NaN   \n",
       "174  7.30  6.41  6.59  7.11  7.38           241      M  17049.0       NaN   \n",
       "175  6.30  6.28  5.89  5.71  6.50           241      M  17050.0       NaN   \n",
       "176  7.04  7.10  6.81  7.00  6.92           241      M  17051.0       NaN   \n",
       "177  6.70  6.81  6.52  5.39  7.00           241      M  17052.0       NaN   \n",
       "\n",
       "     Subject Code  \n",
       "0              16  \n",
       "1              16  \n",
       "2              16  \n",
       "3              16  \n",
       "4              16  \n",
       "..            ...  \n",
       "173            28  \n",
       "174            28  \n",
       "175            28  \n",
       "176            28  \n",
       "177            28  \n",
       "\n",
       "[178 rows x 10 columns]"
      ]
     },
     "execution_count": 13,
     "metadata": {},
     "output_type": "execute_result"
    }
   ],
   "source": [
    "df"
   ]
  },
  {
   "cell_type": "markdown",
   "id": "composed-navigation",
   "metadata": {
    "papermill": {
     "duration": 0.049233,
     "end_time": "2021-05-23T18:07:50.777215",
     "exception": false,
     "start_time": "2021-05-23T18:07:50.727982",
     "status": "completed"
    },
    "tags": []
   },
   "source": [
    "- We can see that there are NaN values in the Roll Number Column. "
   ]
  },
  {
   "cell_type": "markdown",
   "id": "authentic-tours",
   "metadata": {
    "papermill": {
     "duration": 0.049819,
     "end_time": "2021-05-23T18:07:50.876547",
     "exception": false,
     "start_time": "2021-05-23T18:07:50.826728",
     "status": "completed"
    },
    "tags": []
   },
   "source": [
    "# Handling Missing values"
   ]
  },
  {
   "cell_type": "code",
   "execution_count": 14,
   "id": "unlikely-worry",
   "metadata": {
    "execution": {
     "iopub.execute_input": "2021-05-23T18:07:50.986030Z",
     "iopub.status.busy": "2021-05-23T18:07:50.985265Z",
     "iopub.status.idle": "2021-05-23T18:07:50.989097Z",
     "shell.execute_reply": "2021-05-23T18:07:50.988556Z",
     "shell.execute_reply.started": "2021-05-23T18:06:17.536083Z"
    },
    "papermill": {
     "duration": 0.060972,
     "end_time": "2021-05-23T18:07:50.989237",
     "exception": false,
     "start_time": "2021-05-23T18:07:50.928265",
     "status": "completed"
    },
    "tags": []
   },
   "outputs": [
    {
     "data": {
      "text/plain": [
       "1st               2\n",
       "2nd               4\n",
       "3rd               2\n",
       "4th               5\n",
       "5th               6\n",
       "College Code      0\n",
       "Gender            1\n",
       "Roll             46\n",
       "Roll no.        132\n",
       "Subject Code      0\n",
       "dtype: int64"
      ]
     },
     "execution_count": 14,
     "metadata": {},
     "output_type": "execute_result"
    }
   ],
   "source": [
    "df.isnull().sum()"
   ]
  },
  {
   "cell_type": "code",
   "execution_count": 15,
   "id": "inner-parcel",
   "metadata": {
    "execution": {
     "iopub.execute_input": "2021-05-23T18:07:51.098129Z",
     "iopub.status.busy": "2021-05-23T18:07:51.097381Z",
     "iopub.status.idle": "2021-05-23T18:07:51.101768Z",
     "shell.execute_reply": "2021-05-23T18:07:51.100969Z",
     "shell.execute_reply.started": "2021-05-23T18:06:17.550709Z"
    },
    "papermill": {
     "duration": 0.060834,
     "end_time": "2021-05-23T18:07:51.101916",
     "exception": false,
     "start_time": "2021-05-23T18:07:51.041082",
     "status": "completed"
    },
    "tags": []
   },
   "outputs": [
    {
     "data": {
      "text/plain": [
       "16    143\n",
       "28     35\n",
       "Name: Subject Code, dtype: int64"
      ]
     },
     "execution_count": 15,
     "metadata": {},
     "output_type": "execute_result"
    }
   ],
   "source": [
    "df['Subject Code'].value_counts() "
   ]
  },
  {
   "cell_type": "code",
   "execution_count": 16,
   "id": "medical-camera",
   "metadata": {
    "execution": {
     "iopub.execute_input": "2021-05-23T18:07:51.215512Z",
     "iopub.status.busy": "2021-05-23T18:07:51.214394Z",
     "iopub.status.idle": "2021-05-23T18:07:51.218133Z",
     "shell.execute_reply": "2021-05-23T18:07:51.218630Z",
     "shell.execute_reply.started": "2021-05-23T18:06:17.562983Z"
    },
    "papermill": {
     "duration": 0.06427,
     "end_time": "2021-05-23T18:07:51.218814",
     "exception": false,
     "start_time": "2021-05-23T18:07:51.154544",
     "status": "completed"
    },
    "tags": []
   },
   "outputs": [
    {
     "data": {
      "text/plain": [
       "116    51\n",
       "115    46\n",
       "165    46\n",
       "241    35\n",
       "Name: College Code, dtype: int64"
      ]
     },
     "execution_count": 16,
     "metadata": {},
     "output_type": "execute_result"
    }
   ],
   "source": [
    "df['College Code'].value_counts()"
   ]
  },
  {
   "cell_type": "code",
   "execution_count": 17,
   "id": "proved-ukraine",
   "metadata": {
    "execution": {
     "iopub.execute_input": "2021-05-23T18:07:51.326742Z",
     "iopub.status.busy": "2021-05-23T18:07:51.325731Z",
     "iopub.status.idle": "2021-05-23T18:07:51.334178Z",
     "shell.execute_reply": "2021-05-23T18:07:51.333564Z",
     "shell.execute_reply.started": "2021-05-23T18:06:17.577070Z"
    },
    "papermill": {
     "duration": 0.064461,
     "end_time": "2021-05-23T18:07:51.334339",
     "exception": false,
     "start_time": "2021-05-23T18:07:51.269878",
     "status": "completed"
    },
    "tags": []
   },
   "outputs": [
    {
     "data": {
      "text/plain": [
       "M    149\n",
       "F     28\n",
       "Name: Gender, dtype: int64"
      ]
     },
     "execution_count": 17,
     "metadata": {},
     "output_type": "execute_result"
    }
   ],
   "source": [
    "df['Gender'].value_counts()"
   ]
  },
  {
   "cell_type": "markdown",
   "id": "invalid-population",
   "metadata": {
    "papermill": {
     "duration": 0.050521,
     "end_time": "2021-05-23T18:07:51.435734",
     "exception": false,
     "start_time": "2021-05-23T18:07:51.385213",
     "status": "completed"
    },
    "tags": []
   },
   "source": [
    "- make Roll No values in the Int type"
   ]
  },
  {
   "cell_type": "code",
   "execution_count": 18,
   "id": "martial-blame",
   "metadata": {
    "execution": {
     "iopub.execute_input": "2021-05-23T18:07:51.545214Z",
     "iopub.status.busy": "2021-05-23T18:07:51.544498Z",
     "iopub.status.idle": "2021-05-23T18:07:51.565199Z",
     "shell.execute_reply": "2021-05-23T18:07:51.564567Z",
     "shell.execute_reply.started": "2021-05-23T18:06:17.592855Z"
    },
    "papermill": {
     "duration": 0.077801,
     "end_time": "2021-05-23T18:07:51.565363",
     "exception": false,
     "start_time": "2021-05-23T18:07:51.487562",
     "status": "completed"
    },
    "tags": []
   },
   "outputs": [],
   "source": [
    "df['Roll'].fillna(0,inplace=True)        # Replacing Null values from 0 \n",
    "df['Roll no.'].fillna(0,inplace=True)                 # Replacing Null values from 0 \n",
    "\n",
    "df['Roll_no']=df['Roll']+df['Roll no.']            # combining two columns into one. \n",
    "df.drop(columns=['Roll','Roll no.'],inplace=True)"
   ]
  },
  {
   "cell_type": "code",
   "execution_count": 19,
   "id": "upper-external",
   "metadata": {
    "execution": {
     "iopub.execute_input": "2021-05-23T18:07:51.675753Z",
     "iopub.status.busy": "2021-05-23T18:07:51.675094Z",
     "iopub.status.idle": "2021-05-23T18:07:51.679525Z",
     "shell.execute_reply": "2021-05-23T18:07:51.678980Z",
     "shell.execute_reply.started": "2021-05-23T18:06:17.617396Z"
    },
    "papermill": {
     "duration": 0.063397,
     "end_time": "2021-05-23T18:07:51.679667",
     "exception": false,
     "start_time": "2021-05-23T18:07:51.616270",
     "status": "completed"
    },
    "tags": []
   },
   "outputs": [
    {
     "data": {
      "text/plain": [
       "0      17020\n",
       "1      17021\n",
       "2      17022\n",
       "3      17023\n",
       "4      17024\n",
       "       ...  \n",
       "173    17048\n",
       "174    17049\n",
       "175    17050\n",
       "176    17051\n",
       "177    17052\n",
       "Name: Roll_no, Length: 178, dtype: int64"
      ]
     },
     "execution_count": 19,
     "metadata": {},
     "output_type": "execute_result"
    }
   ],
   "source": [
    "df['Roll_no'].astype(int)"
   ]
  },
  {
   "cell_type": "code",
   "execution_count": 20,
   "id": "living-mother",
   "metadata": {
    "execution": {
     "iopub.execute_input": "2021-05-23T18:07:51.786617Z",
     "iopub.status.busy": "2021-05-23T18:07:51.785928Z",
     "iopub.status.idle": "2021-05-23T18:07:51.793313Z",
     "shell.execute_reply": "2021-05-23T18:07:51.793841Z",
     "shell.execute_reply.started": "2021-05-23T18:06:17.628227Z"
    },
    "papermill": {
     "duration": 0.062661,
     "end_time": "2021-05-23T18:07:51.794032",
     "exception": false,
     "start_time": "2021-05-23T18:07:51.731371",
     "status": "completed"
    },
    "tags": []
   },
   "outputs": [
    {
     "data": {
      "text/plain": [
       "1st             2\n",
       "2nd             4\n",
       "3rd             2\n",
       "4th             5\n",
       "5th             6\n",
       "College Code    0\n",
       "Gender          1\n",
       "Subject Code    0\n",
       "Roll_no         0\n",
       "dtype: int64"
      ]
     },
     "execution_count": 20,
     "metadata": {},
     "output_type": "execute_result"
    }
   ],
   "source": [
    "df.isnull().sum()"
   ]
  },
  {
   "cell_type": "markdown",
   "id": "operational-pregnancy",
   "metadata": {
    "papermill": {
     "duration": 0.053321,
     "end_time": "2021-05-23T18:07:51.899102",
     "exception": false,
     "start_time": "2021-05-23T18:07:51.845781",
     "status": "completed"
    },
    "tags": []
   },
   "source": [
    "- There are some Null values in the Data also. "
   ]
  },
  {
   "cell_type": "code",
   "execution_count": 21,
   "id": "reduced-technician",
   "metadata": {
    "execution": {
     "iopub.execute_input": "2021-05-23T18:07:52.007833Z",
     "iopub.status.busy": "2021-05-23T18:07:52.007159Z",
     "iopub.status.idle": "2021-05-23T18:07:52.045691Z",
     "shell.execute_reply": "2021-05-23T18:07:52.045130Z",
     "shell.execute_reply.started": "2021-05-23T18:06:17.638648Z"
    },
    "papermill": {
     "duration": 0.094103,
     "end_time": "2021-05-23T18:07:52.045893",
     "exception": false,
     "start_time": "2021-05-23T18:07:51.951790",
     "status": "completed"
    },
    "tags": []
   },
   "outputs": [
    {
     "data": {
      "text/html": [
       "<div>\n",
       "<style scoped>\n",
       "    .dataframe tbody tr th:only-of-type {\n",
       "        vertical-align: middle;\n",
       "    }\n",
       "\n",
       "    .dataframe tbody tr th {\n",
       "        vertical-align: top;\n",
       "    }\n",
       "\n",
       "    .dataframe thead th {\n",
       "        text-align: right;\n",
       "    }\n",
       "</style>\n",
       "<table border=\"1\" class=\"dataframe\">\n",
       "  <thead>\n",
       "    <tr style=\"text-align: right;\">\n",
       "      <th></th>\n",
       "      <th>1st</th>\n",
       "      <th>2nd</th>\n",
       "      <th>3rd</th>\n",
       "      <th>4th</th>\n",
       "      <th>5th</th>\n",
       "      <th>College Code</th>\n",
       "      <th>Subject Code</th>\n",
       "      <th>Roll_no</th>\n",
       "    </tr>\n",
       "  </thead>\n",
       "  <tbody>\n",
       "    <tr>\n",
       "      <th>count</th>\n",
       "      <td>176.00</td>\n",
       "      <td>174.00</td>\n",
       "      <td>176.00</td>\n",
       "      <td>173.00</td>\n",
       "      <td>172.00</td>\n",
       "      <td>178.00</td>\n",
       "      <td>178.00</td>\n",
       "      <td>178.00</td>\n",
       "    </tr>\n",
       "    <tr>\n",
       "      <th>mean</th>\n",
       "      <td>7.04</td>\n",
       "      <td>6.94</td>\n",
       "      <td>6.62</td>\n",
       "      <td>7.03</td>\n",
       "      <td>7.43</td>\n",
       "      <td>152.98</td>\n",
       "      <td>18.36</td>\n",
       "      <td>17041.14</td>\n",
       "    </tr>\n",
       "    <tr>\n",
       "      <th>std</th>\n",
       "      <td>0.86</td>\n",
       "      <td>0.88</td>\n",
       "      <td>0.92</td>\n",
       "      <td>1.04</td>\n",
       "      <td>1.07</td>\n",
       "      <td>48.36</td>\n",
       "      <td>4.78</td>\n",
       "      <td>13.56</td>\n",
       "    </tr>\n",
       "    <tr>\n",
       "      <th>min</th>\n",
       "      <td>3.85</td>\n",
       "      <td>3.90</td>\n",
       "      <td>3.96</td>\n",
       "      <td>4.29</td>\n",
       "      <td>4.00</td>\n",
       "      <td>115.00</td>\n",
       "      <td>16.00</td>\n",
       "      <td>17017.00</td>\n",
       "    </tr>\n",
       "    <tr>\n",
       "      <th>25%</th>\n",
       "      <td>6.44</td>\n",
       "      <td>6.38</td>\n",
       "      <td>6.14</td>\n",
       "      <td>6.33</td>\n",
       "      <td>6.75</td>\n",
       "      <td>115.00</td>\n",
       "      <td>16.00</td>\n",
       "      <td>17030.00</td>\n",
       "    </tr>\n",
       "    <tr>\n",
       "      <th>50%</th>\n",
       "      <td>7.07</td>\n",
       "      <td>6.80</td>\n",
       "      <td>6.69</td>\n",
       "      <td>7.07</td>\n",
       "      <td>7.59</td>\n",
       "      <td>116.00</td>\n",
       "      <td>16.00</td>\n",
       "      <td>17041.00</td>\n",
       "    </tr>\n",
       "    <tr>\n",
       "      <th>75%</th>\n",
       "      <td>7.59</td>\n",
       "      <td>7.61</td>\n",
       "      <td>7.26</td>\n",
       "      <td>7.86</td>\n",
       "      <td>8.21</td>\n",
       "      <td>165.00</td>\n",
       "      <td>16.00</td>\n",
       "      <td>17052.00</td>\n",
       "    </tr>\n",
       "    <tr>\n",
       "      <th>max</th>\n",
       "      <td>9.15</td>\n",
       "      <td>9.21</td>\n",
       "      <td>9.59</td>\n",
       "      <td>9.31</td>\n",
       "      <td>9.46</td>\n",
       "      <td>241.00</td>\n",
       "      <td>28.00</td>\n",
       "      <td>17067.00</td>\n",
       "    </tr>\n",
       "  </tbody>\n",
       "</table>\n",
       "</div>"
      ],
      "text/plain": [
       "          1st     2nd     3rd     4th     5th  College Code  Subject Code  \\\n",
       "count  176.00  174.00  176.00  173.00  172.00        178.00        178.00   \n",
       "mean     7.04    6.94    6.62    7.03    7.43        152.98         18.36   \n",
       "std      0.86    0.88    0.92    1.04    1.07         48.36          4.78   \n",
       "min      3.85    3.90    3.96    4.29    4.00        115.00         16.00   \n",
       "25%      6.44    6.38    6.14    6.33    6.75        115.00         16.00   \n",
       "50%      7.07    6.80    6.69    7.07    7.59        116.00         16.00   \n",
       "75%      7.59    7.61    7.26    7.86    8.21        165.00         16.00   \n",
       "max      9.15    9.21    9.59    9.31    9.46        241.00         28.00   \n",
       "\n",
       "        Roll_no  \n",
       "count    178.00  \n",
       "mean   17041.14  \n",
       "std       13.56  \n",
       "min    17017.00  \n",
       "25%    17030.00  \n",
       "50%    17041.00  \n",
       "75%    17052.00  \n",
       "max    17067.00  "
      ]
     },
     "execution_count": 21,
     "metadata": {},
     "output_type": "execute_result"
    }
   ],
   "source": [
    "df.describe()"
   ]
  },
  {
   "cell_type": "code",
   "execution_count": 22,
   "id": "chubby-taylor",
   "metadata": {
    "execution": {
     "iopub.execute_input": "2021-05-23T18:07:52.158364Z",
     "iopub.status.busy": "2021-05-23T18:07:52.157575Z",
     "iopub.status.idle": "2021-05-23T18:07:52.160665Z",
     "shell.execute_reply": "2021-05-23T18:07:52.161128Z",
     "shell.execute_reply.started": "2021-05-23T18:06:17.675411Z"
    },
    "papermill": {
     "duration": 0.061667,
     "end_time": "2021-05-23T18:07:52.161312",
     "exception": false,
     "start_time": "2021-05-23T18:07:52.099645",
     "status": "completed"
    },
    "tags": []
   },
   "outputs": [
    {
     "data": {
      "text/plain": [
       "7.03886363636364"
      ]
     },
     "execution_count": 22,
     "metadata": {},
     "output_type": "execute_result"
    }
   ],
   "source": [
    "df['1st'].mean()"
   ]
  },
  {
   "cell_type": "code",
   "execution_count": 23,
   "id": "revised-corrections",
   "metadata": {
    "execution": {
     "iopub.execute_input": "2021-05-23T18:07:52.273063Z",
     "iopub.status.busy": "2021-05-23T18:07:52.272366Z",
     "iopub.status.idle": "2021-05-23T18:07:52.282288Z",
     "shell.execute_reply": "2021-05-23T18:07:52.281680Z",
     "shell.execute_reply.started": "2021-05-23T18:06:17.683129Z"
    },
    "papermill": {
     "duration": 0.066286,
     "end_time": "2021-05-23T18:07:52.282434",
     "exception": false,
     "start_time": "2021-05-23T18:07:52.216148",
     "status": "completed"
    },
    "tags": []
   },
   "outputs": [],
   "source": [
    "df['Gender'].fillna(0,inplace=True)                 # Replacing Null values from 0 \n",
    "\n",
    "\n",
    "\n",
    "\n",
    "df['1st'].fillna(df['1st'].mean(),inplace = True)        # Replacing Null values from 0  \n",
    "df['2nd'].fillna(df['2nd'].mean(),inplace=True)        # Replacing Null values from 0  \n",
    "df['3rd'].fillna(df['3rd'].mean(),inplace=True)        # Replacing Null values from 0  \n",
    "df['4th'].fillna(df['4th'].mean(),inplace=True)        # Replacing Null values from 0  \n",
    "df['5th'].fillna(df['5th'].mean(),inplace=True)        # Replacing Null values from 0   "
   ]
  },
  {
   "cell_type": "code",
   "execution_count": 24,
   "id": "guilty-language",
   "metadata": {
    "execution": {
     "iopub.execute_input": "2021-05-23T18:07:52.397781Z",
     "iopub.status.busy": "2021-05-23T18:07:52.397104Z",
     "iopub.status.idle": "2021-05-23T18:07:52.400218Z",
     "shell.execute_reply": "2021-05-23T18:07:52.400724Z",
     "shell.execute_reply.started": "2021-05-23T18:06:17.695882Z"
    },
    "papermill": {
     "duration": 0.064818,
     "end_time": "2021-05-23T18:07:52.400900",
     "exception": false,
     "start_time": "2021-05-23T18:07:52.336082",
     "status": "completed"
    },
    "scrolled": true,
    "tags": []
   },
   "outputs": [
    {
     "data": {
      "text/plain": [
       "1st             0\n",
       "2nd             0\n",
       "3rd             0\n",
       "4th             0\n",
       "5th             0\n",
       "College Code    0\n",
       "Gender          0\n",
       "Subject Code    0\n",
       "Roll_no         0\n",
       "dtype: int64"
      ]
     },
     "execution_count": 24,
     "metadata": {},
     "output_type": "execute_result"
    }
   ],
   "source": [
    "df.isnull().sum()"
   ]
  },
  {
   "cell_type": "markdown",
   "id": "descending-brooks",
   "metadata": {
    "papermill": {
     "duration": 0.054177,
     "end_time": "2021-05-23T18:07:52.512550",
     "exception": false,
     "start_time": "2021-05-23T18:07:52.458373",
     "status": "completed"
    },
    "tags": []
   },
   "source": [
    "# We can combine College Code, Subject Code and Roll_no Column together "
   ]
  },
  {
   "cell_type": "code",
   "execution_count": 25,
   "id": "frozen-radiation",
   "metadata": {
    "execution": {
     "iopub.execute_input": "2021-05-23T18:07:52.622830Z",
     "iopub.status.busy": "2021-05-23T18:07:52.622102Z",
     "iopub.status.idle": "2021-05-23T18:07:52.634634Z",
     "shell.execute_reply": "2021-05-23T18:07:52.635118Z",
     "shell.execute_reply.started": "2021-05-23T18:06:17.712474Z"
    },
    "papermill": {
     "duration": 0.068976,
     "end_time": "2021-05-23T18:07:52.635299",
     "exception": false,
     "start_time": "2021-05-23T18:07:52.566323",
     "status": "completed"
    },
    "tags": []
   },
   "outputs": [
    {
     "data": {
      "text/plain": [
       "0      1151617020.0\n",
       "1      1151617021.0\n",
       "2      1151617022.0\n",
       "3      1151617023.0\n",
       "4      1151617024.0\n",
       "           ...     \n",
       "173    2412817048.0\n",
       "174    2412817049.0\n",
       "175    2412817050.0\n",
       "176    2412817051.0\n",
       "177    2412817052.0\n",
       "Name: studentid, Length: 178, dtype: object"
      ]
     },
     "execution_count": 25,
     "metadata": {},
     "output_type": "execute_result"
    }
   ],
   "source": [
    "df['College Code']=df['College Code'].astype(str)\n",
    "df['Subject Code']=df['Subject Code'].astype(str)\n",
    "df['Roll_no']=df['Roll_no'].astype(str)\n",
    "df['studentid']=df['College Code']+df['Subject Code']+df['Roll_no']\n",
    "df['studentid']"
   ]
  },
  {
   "cell_type": "code",
   "execution_count": 26,
   "id": "least-majority",
   "metadata": {
    "execution": {
     "iopub.execute_input": "2021-05-23T18:07:52.753826Z",
     "iopub.status.busy": "2021-05-23T18:07:52.753170Z",
     "iopub.status.idle": "2021-05-23T18:07:52.758246Z",
     "shell.execute_reply": "2021-05-23T18:07:52.758701Z",
     "shell.execute_reply.started": "2021-05-23T18:06:17.727946Z"
    },
    "papermill": {
     "duration": 0.067225,
     "end_time": "2021-05-23T18:07:52.758877",
     "exception": false,
     "start_time": "2021-05-23T18:07:52.691652",
     "status": "completed"
    },
    "tags": []
   },
   "outputs": [],
   "source": [
    "df.drop(columns=['Subject Code','Roll_no'],inplace=True)"
   ]
  },
  {
   "cell_type": "code",
   "execution_count": 27,
   "id": "increased-yemen",
   "metadata": {
    "execution": {
     "iopub.execute_input": "2021-05-23T18:07:52.870173Z",
     "iopub.status.busy": "2021-05-23T18:07:52.869492Z",
     "iopub.status.idle": "2021-05-23T18:07:52.884154Z",
     "shell.execute_reply": "2021-05-23T18:07:52.884679Z",
     "shell.execute_reply.started": "2021-05-23T18:06:17.740062Z"
    },
    "papermill": {
     "duration": 0.072152,
     "end_time": "2021-05-23T18:07:52.884855",
     "exception": false,
     "start_time": "2021-05-23T18:07:52.812703",
     "status": "completed"
    },
    "tags": []
   },
   "outputs": [
    {
     "name": "stdout",
     "output_type": "stream",
     "text": [
      "<class 'pandas.core.frame.DataFrame'>\n",
      "RangeIndex: 178 entries, 0 to 177\n",
      "Data columns (total 8 columns):\n",
      " #   Column        Non-Null Count  Dtype  \n",
      "---  ------        --------------  -----  \n",
      " 0   1st           178 non-null    float64\n",
      " 1   2nd           178 non-null    float64\n",
      " 2   3rd           178 non-null    float64\n",
      " 3   4th           178 non-null    float64\n",
      " 4   5th           178 non-null    float64\n",
      " 5   College Code  178 non-null    object \n",
      " 6   Gender        178 non-null    object \n",
      " 7   studentid     178 non-null    object \n",
      "dtypes: float64(5), object(3)\n",
      "memory usage: 11.2+ KB\n"
     ]
    }
   ],
   "source": [
    "df.info()"
   ]
  },
  {
   "cell_type": "markdown",
   "id": "assigned-macro",
   "metadata": {
    "papermill": {
     "duration": 0.052931,
     "end_time": "2021-05-23T18:07:52.991859",
     "exception": false,
     "start_time": "2021-05-23T18:07:52.938928",
     "status": "completed"
    },
    "tags": []
   },
   "source": [
    "- Now there are no Null values in the whole data. "
   ]
  },
  {
   "cell_type": "code",
   "execution_count": 28,
   "id": "silver-present",
   "metadata": {
    "execution": {
     "iopub.execute_input": "2021-05-23T18:07:53.108529Z",
     "iopub.status.busy": "2021-05-23T18:07:53.107791Z",
     "iopub.status.idle": "2021-05-23T18:07:53.109984Z",
     "shell.execute_reply": "2021-05-23T18:07:53.110509Z",
     "shell.execute_reply.started": "2021-05-23T18:06:17.757639Z"
    },
    "papermill": {
     "duration": 0.063493,
     "end_time": "2021-05-23T18:07:53.110681",
     "exception": false,
     "start_time": "2021-05-23T18:07:53.047188",
     "status": "completed"
    },
    "tags": []
   },
   "outputs": [],
   "source": [
    "# I want to find a variable that have relationship with the 1st, 2nd, 3rd, 4th and 5th Column.\n",
    "\n",
    "df['Avg']=(df['1st']+df['2nd']+df['3rd']+df['4th']+df['5th'])/5"
   ]
  },
  {
   "cell_type": "code",
   "execution_count": 29,
   "id": "historical-validation",
   "metadata": {
    "execution": {
     "iopub.execute_input": "2021-05-23T18:07:53.222195Z",
     "iopub.status.busy": "2021-05-23T18:07:53.221451Z",
     "iopub.status.idle": "2021-05-23T18:08:00.630400Z",
     "shell.execute_reply": "2021-05-23T18:08:00.630906Z",
     "shell.execute_reply.started": "2021-05-23T18:06:17.768302Z"
    },
    "papermill": {
     "duration": 7.466162,
     "end_time": "2021-05-23T18:08:00.631101",
     "exception": false,
     "start_time": "2021-05-23T18:07:53.164939",
     "status": "completed"
    },
    "scrolled": true,
    "tags": []
   },
   "outputs": [
    {
     "data": {
      "text/plain": [
       "<seaborn.axisgrid.PairGrid at 0x7fcad6e2d890>"
      ]
     },
     "execution_count": 29,
     "metadata": {},
     "output_type": "execute_result"
    },
    {
     "data": {
      "image/png": "[encoded data removed]",
      "text/plain": [
       "<Figure size 1080x1080 with 42 Axes>"
      ]
     },
     "metadata": {
      "needs_background": "light"
     },
     "output_type": "display_data"
    }
   ],
   "source": [
    "# Pair plot of correlation\n",
    "\n",
    "import seaborn as sns\n",
    "sns.pairplot(df)"
   ]
  },
  {
   "cell_type": "code",
   "execution_count": 30,
   "id": "nonprofit-royal",
   "metadata": {
    "execution": {
     "iopub.execute_input": "2021-05-23T18:08:00.759146Z",
     "iopub.status.busy": "2021-05-23T18:08:00.758428Z",
     "iopub.status.idle": "2021-05-23T18:08:00.780297Z",
     "shell.execute_reply": "2021-05-23T18:08:00.780841Z",
     "shell.execute_reply.started": "2021-05-23T18:06:23.106271Z"
    },
    "papermill": {
     "duration": 0.086704,
     "end_time": "2021-05-23T18:08:00.781040",
     "exception": false,
     "start_time": "2021-05-23T18:08:00.694336",
     "status": "completed"
    },
    "scrolled": true,
    "tags": []
   },
   "outputs": [
    {
     "data": {
      "text/html": [
       "<div>\n",
       "<style scoped>\n",
       "    .dataframe tbody tr th:only-of-type {\n",
       "        vertical-align: middle;\n",
       "    }\n",
       "\n",
       "    .dataframe tbody tr th {\n",
       "        vertical-align: top;\n",
       "    }\n",
       "\n",
       "    .dataframe thead th {\n",
       "        text-align: right;\n",
       "    }\n",
       "</style>\n",
       "<table border=\"1\" class=\"dataframe\">\n",
       "  <thead>\n",
       "    <tr style=\"text-align: right;\">\n",
       "      <th></th>\n",
       "      <th>1st</th>\n",
       "      <th>2nd</th>\n",
       "      <th>3rd</th>\n",
       "      <th>4th</th>\n",
       "      <th>5th</th>\n",
       "      <th>College Code</th>\n",
       "      <th>Gender</th>\n",
       "      <th>studentid</th>\n",
       "      <th>Avg</th>\n",
       "    </tr>\n",
       "  </thead>\n",
       "  <tbody>\n",
       "    <tr>\n",
       "      <th>0</th>\n",
       "      <td>8.11</td>\n",
       "      <td>7.68</td>\n",
       "      <td>7.11</td>\n",
       "      <td>7.43</td>\n",
       "      <td>8.18</td>\n",
       "      <td>115</td>\n",
       "      <td>F</td>\n",
       "      <td>1151617020.0</td>\n",
       "      <td>7.70</td>\n",
       "    </tr>\n",
       "    <tr>\n",
       "      <th>1</th>\n",
       "      <td>6.48</td>\n",
       "      <td>5.90</td>\n",
       "      <td>4.15</td>\n",
       "      <td>4.29</td>\n",
       "      <td>4.96</td>\n",
       "      <td>115</td>\n",
       "      <td>M</td>\n",
       "      <td>1151617021.0</td>\n",
       "      <td>5.16</td>\n",
       "    </tr>\n",
       "    <tr>\n",
       "      <th>2</th>\n",
       "      <td>8.41</td>\n",
       "      <td>8.24</td>\n",
       "      <td>7.52</td>\n",
       "      <td>8.25</td>\n",
       "      <td>7.75</td>\n",
       "      <td>115</td>\n",
       "      <td>F</td>\n",
       "      <td>1151617022.0</td>\n",
       "      <td>8.03</td>\n",
       "    </tr>\n",
       "    <tr>\n",
       "      <th>3</th>\n",
       "      <td>7.33</td>\n",
       "      <td>6.83</td>\n",
       "      <td>6.33</td>\n",
       "      <td>6.79</td>\n",
       "      <td>6.89</td>\n",
       "      <td>115</td>\n",
       "      <td>M</td>\n",
       "      <td>1151617023.0</td>\n",
       "      <td>6.83</td>\n",
       "    </tr>\n",
       "    <tr>\n",
       "      <th>4</th>\n",
       "      <td>7.89</td>\n",
       "      <td>7.34</td>\n",
       "      <td>7.22</td>\n",
       "      <td>7.32</td>\n",
       "      <td>7.46</td>\n",
       "      <td>115</td>\n",
       "      <td>M</td>\n",
       "      <td>1151617024.0</td>\n",
       "      <td>7.45</td>\n",
       "    </tr>\n",
       "    <tr>\n",
       "      <th>...</th>\n",
       "      <td>...</td>\n",
       "      <td>...</td>\n",
       "      <td>...</td>\n",
       "      <td>...</td>\n",
       "      <td>...</td>\n",
       "      <td>...</td>\n",
       "      <td>...</td>\n",
       "      <td>...</td>\n",
       "      <td>...</td>\n",
       "    </tr>\n",
       "    <tr>\n",
       "      <th>173</th>\n",
       "      <td>7.48</td>\n",
       "      <td>7.55</td>\n",
       "      <td>7.67</td>\n",
       "      <td>7.39</td>\n",
       "      <td>8.65</td>\n",
       "      <td>241</td>\n",
       "      <td>F</td>\n",
       "      <td>2412817048.0</td>\n",
       "      <td>7.75</td>\n",
       "    </tr>\n",
       "    <tr>\n",
       "      <th>174</th>\n",
       "      <td>7.30</td>\n",
       "      <td>6.41</td>\n",
       "      <td>6.59</td>\n",
       "      <td>7.11</td>\n",
       "      <td>7.38</td>\n",
       "      <td>241</td>\n",
       "      <td>M</td>\n",
       "      <td>2412817049.0</td>\n",
       "      <td>6.96</td>\n",
       "    </tr>\n",
       "    <tr>\n",
       "      <th>175</th>\n",
       "      <td>6.30</td>\n",
       "      <td>6.28</td>\n",
       "      <td>5.89</td>\n",
       "      <td>5.71</td>\n",
       "      <td>6.50</td>\n",
       "      <td>241</td>\n",
       "      <td>M</td>\n",
       "      <td>2412817050.0</td>\n",
       "      <td>6.14</td>\n",
       "    </tr>\n",
       "    <tr>\n",
       "      <th>176</th>\n",
       "      <td>7.04</td>\n",
       "      <td>7.10</td>\n",
       "      <td>6.81</td>\n",
       "      <td>7.00</td>\n",
       "      <td>6.92</td>\n",
       "      <td>241</td>\n",
       "      <td>M</td>\n",
       "      <td>2412817051.0</td>\n",
       "      <td>6.97</td>\n",
       "    </tr>\n",
       "    <tr>\n",
       "      <th>177</th>\n",
       "      <td>6.70</td>\n",
       "      <td>6.81</td>\n",
       "      <td>6.52</td>\n",
       "      <td>5.39</td>\n",
       "      <td>7.00</td>\n",
       "      <td>241</td>\n",
       "      <td>M</td>\n",
       "      <td>2412817052.0</td>\n",
       "      <td>6.48</td>\n",
       "    </tr>\n",
       "  </tbody>\n",
       "</table>\n",
       "<p>178 rows × 9 columns</p>\n",
       "</div>"
      ],
      "text/plain": [
       "      1st   2nd   3rd   4th   5th College Code Gender     studentid   Avg\n",
       "0    8.11  7.68  7.11  7.43  8.18          115      F  1151617020.0  7.70\n",
       "1    6.48  5.90  4.15  4.29  4.96          115      M  1151617021.0  5.16\n",
       "2    8.41  8.24  7.52  8.25  7.75          115      F  1151617022.0  8.03\n",
       "3    7.33  6.83  6.33  6.79  6.89          115      M  1151617023.0  6.83\n",
       "4    7.89  7.34  7.22  7.32  7.46          115      M  1151617024.0  7.45\n",
       "..    ...   ...   ...   ...   ...          ...    ...           ...   ...\n",
       "173  7.48  7.55  7.67  7.39  8.65          241      F  2412817048.0  7.75\n",
       "174  7.30  6.41  6.59  7.11  7.38          241      M  2412817049.0  6.96\n",
       "175  6.30  6.28  5.89  5.71  6.50          241      M  2412817050.0  6.14\n",
       "176  7.04  7.10  6.81  7.00  6.92          241      M  2412817051.0  6.97\n",
       "177  6.70  6.81  6.52  5.39  7.00          241      M  2412817052.0  6.48\n",
       "\n",
       "[178 rows x 9 columns]"
      ]
     },
     "execution_count": 30,
     "metadata": {},
     "output_type": "execute_result"
    }
   ],
   "source": [
    "df"
   ]
  },
  {
   "cell_type": "markdown",
   "id": "architectural-isolation",
   "metadata": {
    "papermill": {
     "duration": 0.061943,
     "end_time": "2021-05-23T18:08:00.905303",
     "exception": false,
     "start_time": "2021-05-23T18:08:00.843360",
     "status": "completed"
    },
    "tags": []
   },
   "source": [
    "# Select only relevent columns only. "
   ]
  },
  {
   "cell_type": "code",
   "execution_count": 31,
   "id": "sunrise-adobe",
   "metadata": {
    "execution": {
     "iopub.execute_input": "2021-05-23T18:08:01.033462Z",
     "iopub.status.busy": "2021-05-23T18:08:01.032770Z",
     "iopub.status.idle": "2021-05-23T18:08:01.037755Z",
     "shell.execute_reply": "2021-05-23T18:08:01.038342Z",
     "shell.execute_reply.started": "2021-05-23T18:06:23.131901Z"
    },
    "papermill": {
     "duration": 0.071788,
     "end_time": "2021-05-23T18:08:01.038516",
     "exception": false,
     "start_time": "2021-05-23T18:08:00.966728",
     "status": "completed"
    },
    "tags": []
   },
   "outputs": [],
   "source": [
    "df1 = df[['1st','2nd', '3rd', '4th','5th','Avg']] "
   ]
  },
  {
   "cell_type": "code",
   "execution_count": 32,
   "id": "handmade-moscow",
   "metadata": {
    "execution": {
     "iopub.execute_input": "2021-05-23T18:08:01.169888Z",
     "iopub.status.busy": "2021-05-23T18:08:01.169173Z",
     "iopub.status.idle": "2021-05-23T18:08:01.188382Z",
     "shell.execute_reply": "2021-05-23T18:08:01.188919Z",
     "shell.execute_reply.started": "2021-05-23T18:06:23.139638Z"
    },
    "papermill": {
     "duration": 0.088178,
     "end_time": "2021-05-23T18:08:01.189115",
     "exception": false,
     "start_time": "2021-05-23T18:08:01.100937",
     "status": "completed"
    },
    "tags": []
   },
   "outputs": [
    {
     "data": {
      "text/html": [
       "<div>\n",
       "<style scoped>\n",
       "    .dataframe tbody tr th:only-of-type {\n",
       "        vertical-align: middle;\n",
       "    }\n",
       "\n",
       "    .dataframe tbody tr th {\n",
       "        vertical-align: top;\n",
       "    }\n",
       "\n",
       "    .dataframe thead th {\n",
       "        text-align: right;\n",
       "    }\n",
       "</style>\n",
       "<table border=\"1\" class=\"dataframe\">\n",
       "  <thead>\n",
       "    <tr style=\"text-align: right;\">\n",
       "      <th></th>\n",
       "      <th>1st</th>\n",
       "      <th>2nd</th>\n",
       "      <th>3rd</th>\n",
       "      <th>4th</th>\n",
       "      <th>5th</th>\n",
       "      <th>Avg</th>\n",
       "    </tr>\n",
       "  </thead>\n",
       "  <tbody>\n",
       "    <tr>\n",
       "      <th>0</th>\n",
       "      <td>8.11</td>\n",
       "      <td>7.68</td>\n",
       "      <td>7.11</td>\n",
       "      <td>7.43</td>\n",
       "      <td>8.18</td>\n",
       "      <td>7.70</td>\n",
       "    </tr>\n",
       "    <tr>\n",
       "      <th>1</th>\n",
       "      <td>6.48</td>\n",
       "      <td>5.90</td>\n",
       "      <td>4.15</td>\n",
       "      <td>4.29</td>\n",
       "      <td>4.96</td>\n",
       "      <td>5.16</td>\n",
       "    </tr>\n",
       "    <tr>\n",
       "      <th>2</th>\n",
       "      <td>8.41</td>\n",
       "      <td>8.24</td>\n",
       "      <td>7.52</td>\n",
       "      <td>8.25</td>\n",
       "      <td>7.75</td>\n",
       "      <td>8.03</td>\n",
       "    </tr>\n",
       "    <tr>\n",
       "      <th>3</th>\n",
       "      <td>7.33</td>\n",
       "      <td>6.83</td>\n",
       "      <td>6.33</td>\n",
       "      <td>6.79</td>\n",
       "      <td>6.89</td>\n",
       "      <td>6.83</td>\n",
       "    </tr>\n",
       "    <tr>\n",
       "      <th>4</th>\n",
       "      <td>7.89</td>\n",
       "      <td>7.34</td>\n",
       "      <td>7.22</td>\n",
       "      <td>7.32</td>\n",
       "      <td>7.46</td>\n",
       "      <td>7.45</td>\n",
       "    </tr>\n",
       "    <tr>\n",
       "      <th>...</th>\n",
       "      <td>...</td>\n",
       "      <td>...</td>\n",
       "      <td>...</td>\n",
       "      <td>...</td>\n",
       "      <td>...</td>\n",
       "      <td>...</td>\n",
       "    </tr>\n",
       "    <tr>\n",
       "      <th>173</th>\n",
       "      <td>7.48</td>\n",
       "      <td>7.55</td>\n",
       "      <td>7.67</td>\n",
       "      <td>7.39</td>\n",
       "      <td>8.65</td>\n",
       "      <td>7.75</td>\n",
       "    </tr>\n",
       "    <tr>\n",
       "      <th>174</th>\n",
       "      <td>7.30</td>\n",
       "      <td>6.41</td>\n",
       "      <td>6.59</td>\n",
       "      <td>7.11</td>\n",
       "      <td>7.38</td>\n",
       "      <td>6.96</td>\n",
       "    </tr>\n",
       "    <tr>\n",
       "      <th>175</th>\n",
       "      <td>6.30</td>\n",
       "      <td>6.28</td>\n",
       "      <td>5.89</td>\n",
       "      <td>5.71</td>\n",
       "      <td>6.50</td>\n",
       "      <td>6.14</td>\n",
       "    </tr>\n",
       "    <tr>\n",
       "      <th>176</th>\n",
       "      <td>7.04</td>\n",
       "      <td>7.10</td>\n",
       "      <td>6.81</td>\n",
       "      <td>7.00</td>\n",
       "      <td>6.92</td>\n",
       "      <td>6.97</td>\n",
       "    </tr>\n",
       "    <tr>\n",
       "      <th>177</th>\n",
       "      <td>6.70</td>\n",
       "      <td>6.81</td>\n",
       "      <td>6.52</td>\n",
       "      <td>5.39</td>\n",
       "      <td>7.00</td>\n",
       "      <td>6.48</td>\n",
       "    </tr>\n",
       "  </tbody>\n",
       "</table>\n",
       "<p>178 rows × 6 columns</p>\n",
       "</div>"
      ],
      "text/plain": [
       "      1st   2nd   3rd   4th   5th   Avg\n",
       "0    8.11  7.68  7.11  7.43  8.18  7.70\n",
       "1    6.48  5.90  4.15  4.29  4.96  5.16\n",
       "2    8.41  8.24  7.52  8.25  7.75  8.03\n",
       "3    7.33  6.83  6.33  6.79  6.89  6.83\n",
       "4    7.89  7.34  7.22  7.32  7.46  7.45\n",
       "..    ...   ...   ...   ...   ...   ...\n",
       "173  7.48  7.55  7.67  7.39  8.65  7.75\n",
       "174  7.30  6.41  6.59  7.11  7.38  6.96\n",
       "175  6.30  6.28  5.89  5.71  6.50  6.14\n",
       "176  7.04  7.10  6.81  7.00  6.92  6.97\n",
       "177  6.70  6.81  6.52  5.39  7.00  6.48\n",
       "\n",
       "[178 rows x 6 columns]"
      ]
     },
     "execution_count": 32,
     "metadata": {},
     "output_type": "execute_result"
    }
   ],
   "source": [
    "df1"
   ]
  },
  {
   "cell_type": "code",
   "execution_count": 33,
   "id": "automotive-enterprise",
   "metadata": {
    "execution": {
     "iopub.execute_input": "2021-05-23T18:08:01.316392Z",
     "iopub.status.busy": "2021-05-23T18:08:01.315730Z",
     "iopub.status.idle": "2021-05-23T18:08:01.602504Z",
     "shell.execute_reply": "2021-05-23T18:08:01.603084Z",
     "shell.execute_reply.started": "2021-05-23T18:06:23.165264Z"
    },
    "papermill": {
     "duration": 0.351613,
     "end_time": "2021-05-23T18:08:01.603266",
     "exception": false,
     "start_time": "2021-05-23T18:08:01.251653",
     "status": "completed"
    },
    "tags": []
   },
   "outputs": [],
   "source": [
    "from sklearn.model_selection import train_test_split\n",
    "\n",
    "X = df1\n",
    "y = df['Avg'] \n",
    "\n",
    "X_train, X_test, y_train, y_test = train_test_split(X , y, test_size=1/3, random_state=21)\n"
   ]
  },
  {
   "cell_type": "code",
   "execution_count": 34,
   "id": "patent-issue",
   "metadata": {
    "execution": {
     "iopub.execute_input": "2021-05-23T18:08:01.731006Z",
     "iopub.status.busy": "2021-05-23T18:08:01.730337Z",
     "iopub.status.idle": "2021-05-23T18:08:01.748349Z",
     "shell.execute_reply": "2021-05-23T18:08:01.747776Z",
     "shell.execute_reply.started": "2021-05-23T18:06:23.353822Z"
    },
    "papermill": {
     "duration": 0.08321,
     "end_time": "2021-05-23T18:08:01.748499",
     "exception": false,
     "start_time": "2021-05-23T18:08:01.665289",
     "status": "completed"
    },
    "tags": []
   },
   "outputs": [
    {
     "data": {
      "text/html": [
       "<div>\n",
       "<style scoped>\n",
       "    .dataframe tbody tr th:only-of-type {\n",
       "        vertical-align: middle;\n",
       "    }\n",
       "\n",
       "    .dataframe tbody tr th {\n",
       "        vertical-align: top;\n",
       "    }\n",
       "\n",
       "    .dataframe thead th {\n",
       "        text-align: right;\n",
       "    }\n",
       "</style>\n",
       "<table border=\"1\" class=\"dataframe\">\n",
       "  <thead>\n",
       "    <tr style=\"text-align: right;\">\n",
       "      <th></th>\n",
       "      <th>1st</th>\n",
       "      <th>2nd</th>\n",
       "      <th>3rd</th>\n",
       "      <th>4th</th>\n",
       "      <th>5th</th>\n",
       "      <th>Avg</th>\n",
       "    </tr>\n",
       "  </thead>\n",
       "  <tbody>\n",
       "    <tr>\n",
       "      <th>0</th>\n",
       "      <td>8.11</td>\n",
       "      <td>7.68</td>\n",
       "      <td>7.11</td>\n",
       "      <td>7.43</td>\n",
       "      <td>8.18</td>\n",
       "      <td>7.70</td>\n",
       "    </tr>\n",
       "    <tr>\n",
       "      <th>1</th>\n",
       "      <td>6.48</td>\n",
       "      <td>5.90</td>\n",
       "      <td>4.15</td>\n",
       "      <td>4.29</td>\n",
       "      <td>4.96</td>\n",
       "      <td>5.16</td>\n",
       "    </tr>\n",
       "    <tr>\n",
       "      <th>2</th>\n",
       "      <td>8.41</td>\n",
       "      <td>8.24</td>\n",
       "      <td>7.52</td>\n",
       "      <td>8.25</td>\n",
       "      <td>7.75</td>\n",
       "      <td>8.03</td>\n",
       "    </tr>\n",
       "    <tr>\n",
       "      <th>3</th>\n",
       "      <td>7.33</td>\n",
       "      <td>6.83</td>\n",
       "      <td>6.33</td>\n",
       "      <td>6.79</td>\n",
       "      <td>6.89</td>\n",
       "      <td>6.83</td>\n",
       "    </tr>\n",
       "    <tr>\n",
       "      <th>4</th>\n",
       "      <td>7.89</td>\n",
       "      <td>7.34</td>\n",
       "      <td>7.22</td>\n",
       "      <td>7.32</td>\n",
       "      <td>7.46</td>\n",
       "      <td>7.45</td>\n",
       "    </tr>\n",
       "    <tr>\n",
       "      <th>...</th>\n",
       "      <td>...</td>\n",
       "      <td>...</td>\n",
       "      <td>...</td>\n",
       "      <td>...</td>\n",
       "      <td>...</td>\n",
       "      <td>...</td>\n",
       "    </tr>\n",
       "    <tr>\n",
       "      <th>173</th>\n",
       "      <td>7.48</td>\n",
       "      <td>7.55</td>\n",
       "      <td>7.67</td>\n",
       "      <td>7.39</td>\n",
       "      <td>8.65</td>\n",
       "      <td>7.75</td>\n",
       "    </tr>\n",
       "    <tr>\n",
       "      <th>174</th>\n",
       "      <td>7.30</td>\n",
       "      <td>6.41</td>\n",
       "      <td>6.59</td>\n",
       "      <td>7.11</td>\n",
       "      <td>7.38</td>\n",
       "      <td>6.96</td>\n",
       "    </tr>\n",
       "    <tr>\n",
       "      <th>175</th>\n",
       "      <td>6.30</td>\n",
       "      <td>6.28</td>\n",
       "      <td>5.89</td>\n",
       "      <td>5.71</td>\n",
       "      <td>6.50</td>\n",
       "      <td>6.14</td>\n",
       "    </tr>\n",
       "    <tr>\n",
       "      <th>176</th>\n",
       "      <td>7.04</td>\n",
       "      <td>7.10</td>\n",
       "      <td>6.81</td>\n",
       "      <td>7.00</td>\n",
       "      <td>6.92</td>\n",
       "      <td>6.97</td>\n",
       "    </tr>\n",
       "    <tr>\n",
       "      <th>177</th>\n",
       "      <td>6.70</td>\n",
       "      <td>6.81</td>\n",
       "      <td>6.52</td>\n",
       "      <td>5.39</td>\n",
       "      <td>7.00</td>\n",
       "      <td>6.48</td>\n",
       "    </tr>\n",
       "  </tbody>\n",
       "</table>\n",
       "<p>178 rows × 6 columns</p>\n",
       "</div>"
      ],
      "text/plain": [
       "      1st   2nd   3rd   4th   5th   Avg\n",
       "0    8.11  7.68  7.11  7.43  8.18  7.70\n",
       "1    6.48  5.90  4.15  4.29  4.96  5.16\n",
       "2    8.41  8.24  7.52  8.25  7.75  8.03\n",
       "3    7.33  6.83  6.33  6.79  6.89  6.83\n",
       "4    7.89  7.34  7.22  7.32  7.46  7.45\n",
       "..    ...   ...   ...   ...   ...   ...\n",
       "173  7.48  7.55  7.67  7.39  8.65  7.75\n",
       "174  7.30  6.41  6.59  7.11  7.38  6.96\n",
       "175  6.30  6.28  5.89  5.71  6.50  6.14\n",
       "176  7.04  7.10  6.81  7.00  6.92  6.97\n",
       "177  6.70  6.81  6.52  5.39  7.00  6.48\n",
       "\n",
       "[178 rows x 6 columns]"
      ]
     },
     "execution_count": 34,
     "metadata": {},
     "output_type": "execute_result"
    }
   ],
   "source": [
    "X"
   ]
  },
  {
   "cell_type": "code",
   "execution_count": 35,
   "id": "prerequisite-decline",
   "metadata": {
    "execution": {
     "iopub.execute_input": "2021-05-23T18:08:01.880105Z",
     "iopub.status.busy": "2021-05-23T18:08:01.879071Z",
     "iopub.status.idle": "2021-05-23T18:08:01.884009Z",
     "shell.execute_reply": "2021-05-23T18:08:01.883355Z",
     "shell.execute_reply.started": "2021-05-23T18:06:23.375237Z"
    },
    "papermill": {
     "duration": 0.07349,
     "end_time": "2021-05-23T18:08:01.884159",
     "exception": false,
     "start_time": "2021-05-23T18:08:01.810669",
     "status": "completed"
    },
    "tags": []
   },
   "outputs": [
    {
     "data": {
      "text/plain": [
       "0      7.70\n",
       "1      5.16\n",
       "2      8.03\n",
       "3      6.83\n",
       "4      7.45\n",
       "       ... \n",
       "173    7.75\n",
       "174    6.96\n",
       "175    6.14\n",
       "176    6.97\n",
       "177    6.48\n",
       "Name: Avg, Length: 178, dtype: float64"
      ]
     },
     "execution_count": 35,
     "metadata": {},
     "output_type": "execute_result"
    }
   ],
   "source": [
    "y"
   ]
  },
  {
   "cell_type": "code",
   "execution_count": 36,
   "id": "impaired-unknown",
   "metadata": {
    "execution": {
     "iopub.execute_input": "2021-05-23T18:08:02.016911Z",
     "iopub.status.busy": "2021-05-23T18:08:02.016268Z",
     "iopub.status.idle": "2021-05-23T18:08:02.146659Z",
     "shell.execute_reply": "2021-05-23T18:08:02.146080Z",
     "shell.execute_reply.started": "2021-05-23T18:06:23.384859Z"
    },
    "papermill": {
     "duration": 0.198624,
     "end_time": "2021-05-23T18:08:02.146803",
     "exception": false,
     "start_time": "2021-05-23T18:08:01.948179",
     "status": "completed"
    },
    "tags": []
   },
   "outputs": [
    {
     "data": {
      "text/plain": [
       "100.0"
      ]
     },
     "execution_count": 36,
     "metadata": {},
     "output_type": "execute_result"
    }
   ],
   "source": [
    "import sklearn.linear_model as skl_lm\n",
    "regr = skl_lm.LinearRegression()\n",
    "regr.fit(X_train,y_train)\n",
    "\n",
    "round( (regr.score(X_test,y_test)*100) , 2   )"
   ]
  },
  {
   "cell_type": "code",
   "execution_count": 37,
   "id": "loving-litigation",
   "metadata": {
    "execution": {
     "iopub.execute_input": "2021-05-23T18:08:02.282483Z",
     "iopub.status.busy": "2021-05-23T18:08:02.281317Z",
     "iopub.status.idle": "2021-05-23T18:08:02.285834Z",
     "shell.execute_reply": "2021-05-23T18:08:02.285213Z",
     "shell.execute_reply.started": "2021-05-23T18:06:23.514586Z"
    },
    "papermill": {
     "duration": 0.075151,
     "end_time": "2021-05-23T18:08:02.285992",
     "exception": false,
     "start_time": "2021-05-23T18:08:02.210841",
     "status": "completed"
    },
    "tags": []
   },
   "outputs": [
    {
     "data": {
      "text/plain": [
       "100.0"
      ]
     },
     "execution_count": 37,
     "metadata": {},
     "output_type": "execute_result"
    }
   ],
   "source": [
    "round( (regr.score(X_train,y_train)*100) , 2   ) "
   ]
  },
  {
   "cell_type": "code",
   "execution_count": 38,
   "id": "mexican-ready",
   "metadata": {
    "execution": {
     "iopub.execute_input": "2021-05-23T18:08:02.423110Z",
     "iopub.status.busy": "2021-05-23T18:08:02.422057Z",
     "iopub.status.idle": "2021-05-23T18:08:02.426236Z",
     "shell.execute_reply": "2021-05-23T18:08:02.425659Z",
     "shell.execute_reply.started": "2021-05-23T18:06:23.524900Z"
    },
    "papermill": {
     "duration": 0.076167,
     "end_time": "2021-05-23T18:08:02.426383",
     "exception": false,
     "start_time": "2021-05-23T18:08:02.350216",
     "status": "completed"
    },
    "tags": []
   },
   "outputs": [
    {
     "data": {
      "text/plain": [
       "array([234.21973422])"
      ]
     },
     "execution_count": 38,
     "metadata": {},
     "output_type": "execute_result"
    }
   ],
   "source": [
    "regr.predict([[20, 334.34, 34.3443, 34.34, 12, 234.324423]])  "
   ]
  },
  {
   "cell_type": "code",
   "execution_count": 39,
   "id": "medium-painting",
   "metadata": {
    "execution": {
     "iopub.execute_input": "2021-05-23T18:08:02.568633Z",
     "iopub.status.busy": "2021-05-23T18:08:02.567879Z",
     "iopub.status.idle": "2021-05-23T18:08:02.572780Z",
     "shell.execute_reply": "2021-05-23T18:08:02.572217Z",
     "shell.execute_reply.started": "2021-05-23T18:06:23.539763Z"
    },
    "papermill": {
     "duration": 0.077105,
     "end_time": "2021-05-23T18:08:02.572924",
     "exception": false,
     "start_time": "2021-05-23T18:08:02.495819",
     "status": "completed"
    },
    "tags": []
   },
   "outputs": [
    {
     "data": {
      "text/plain": [
       "-1.7763568394002505e-15"
      ]
     },
     "execution_count": 39,
     "metadata": {},
     "output_type": "execute_result"
    }
   ],
   "source": [
    "regr.intercept_"
   ]
  },
  {
   "cell_type": "code",
   "execution_count": 40,
   "id": "alike-assembly",
   "metadata": {
    "execution": {
     "iopub.execute_input": "2021-05-23T18:08:02.718736Z",
     "iopub.status.busy": "2021-05-23T18:08:02.717979Z",
     "iopub.status.idle": "2021-05-23T18:08:02.723351Z",
     "shell.execute_reply": "2021-05-23T18:08:02.722715Z",
     "shell.execute_reply.started": "2021-05-23T18:06:23.551503Z"
    },
    "papermill": {
     "duration": 0.085048,
     "end_time": "2021-05-23T18:08:02.723495",
     "exception": false,
     "start_time": "2021-05-23T18:08:02.638447",
     "status": "completed"
    },
    "tags": []
   },
   "outputs": [
    {
     "data": {
      "text/html": [
       "<div>\n",
       "<style scoped>\n",
       "    .dataframe tbody tr th:only-of-type {\n",
       "        vertical-align: middle;\n",
       "    }\n",
       "\n",
       "    .dataframe tbody tr th {\n",
       "        vertical-align: top;\n",
       "    }\n",
       "\n",
       "    .dataframe thead th {\n",
       "        text-align: right;\n",
       "    }\n",
       "</style>\n",
       "<table border=\"1\" class=\"dataframe\">\n",
       "  <thead>\n",
       "    <tr style=\"text-align: right;\">\n",
       "      <th></th>\n",
       "      <th>Actual</th>\n",
       "      <th>Predicted</th>\n",
       "      <th>Difference</th>\n",
       "    </tr>\n",
       "  </thead>\n",
       "  <tbody>\n",
       "    <tr>\n",
       "      <th>13</th>\n",
       "      <td>6.62</td>\n",
       "      <td>6.62</td>\n",
       "      <td>0.0</td>\n",
       "    </tr>\n",
       "    <tr>\n",
       "      <th>113</th>\n",
       "      <td>7.25</td>\n",
       "      <td>7.25</td>\n",
       "      <td>-0.0</td>\n",
       "    </tr>\n",
       "    <tr>\n",
       "      <th>21</th>\n",
       "      <td>8.37</td>\n",
       "      <td>8.37</td>\n",
       "      <td>0.0</td>\n",
       "    </tr>\n",
       "    <tr>\n",
       "      <th>143</th>\n",
       "      <td>8.31</td>\n",
       "      <td>8.31</td>\n",
       "      <td>0.0</td>\n",
       "    </tr>\n",
       "    <tr>\n",
       "      <th>173</th>\n",
       "      <td>7.75</td>\n",
       "      <td>7.75</td>\n",
       "      <td>-0.0</td>\n",
       "    </tr>\n",
       "  </tbody>\n",
       "</table>\n",
       "</div>"
      ],
      "text/plain": [
       "     Actual  Predicted  Difference\n",
       "13     6.62       6.62         0.0\n",
       "113    7.25       7.25        -0.0\n",
       "21     8.37       8.37         0.0\n",
       "143    8.31       8.31         0.0\n",
       "173    7.75       7.75        -0.0"
      ]
     },
     "execution_count": 40,
     "metadata": {},
     "output_type": "execute_result"
    }
   ],
   "source": [
    "y_pred = regr.predict(X_test)\n",
    "difference = y_test - y_pred\n",
    "dif = round(difference, 2)   \n",
    "df3 = pd.DataFrame({'Actual': y_test, 'Predicted': y_pred, 'Difference': dif})\n",
    "df3.head()"
   ]
  },
  {
   "cell_type": "markdown",
   "id": "guided-central",
   "metadata": {
    "papermill": {
     "duration": 0.06597,
     "end_time": "2021-05-23T18:08:02.853768",
     "exception": false,
     "start_time": "2021-05-23T18:08:02.787798",
     "status": "completed"
    },
    "tags": []
   },
   "source": [
    "# Residual Sum of Squares"
   ]
  },
  {
   "cell_type": "code",
   "execution_count": 41,
   "id": "charged-lightweight",
   "metadata": {
    "execution": {
     "iopub.execute_input": "2021-05-23T18:08:02.993869Z",
     "iopub.status.busy": "2021-05-23T18:08:02.993206Z",
     "iopub.status.idle": "2021-05-23T18:08:02.997064Z",
     "shell.execute_reply": "2021-05-23T18:08:02.996457Z",
     "shell.execute_reply.started": "2021-05-23T18:06:23.573131Z"
    },
    "papermill": {
     "duration": 0.078448,
     "end_time": "2021-05-23T18:08:02.997220",
     "exception": false,
     "start_time": "2021-05-23T18:08:02.918772",
     "status": "completed"
    },
    "tags": []
   },
   "outputs": [
    {
     "data": {
      "text/plain": [
       "1st    8.88e+03\n",
       "2nd    8.88e+03\n",
       "3rd    8.88e+03\n",
       "4th    8.88e+03\n",
       "5th    8.88e+03\n",
       "Avg    4.48e-03\n",
       "dtype: float64"
      ]
     },
     "execution_count": 41,
     "metadata": {},
     "output_type": "execute_result"
    }
   ],
   "source": [
    "min_rss = np.sum((regr.intercept_+regr.coef_*X - y.values.reshape(-1,1))**2)\n",
    "min_rss"
   ]
  },
  {
   "cell_type": "markdown",
   "id": "greenhouse-biography",
   "metadata": {
    "papermill": {
     "duration": 0.064211,
     "end_time": "2021-05-23T18:08:03.126359",
     "exception": false,
     "start_time": "2021-05-23T18:08:03.062148",
     "status": "completed"
    },
    "tags": []
   },
   "source": [
    "# MSE"
   ]
  },
  {
   "cell_type": "code",
   "execution_count": 42,
   "id": "hybrid-indication",
   "metadata": {
    "execution": {
     "iopub.execute_input": "2021-05-23T18:08:03.262517Z",
     "iopub.status.busy": "2021-05-23T18:08:03.261557Z",
     "iopub.status.idle": "2021-05-23T18:08:03.266395Z",
     "shell.execute_reply": "2021-05-23T18:08:03.265705Z",
     "shell.execute_reply.started": "2021-05-23T18:06:23.592859Z"
    },
    "papermill": {
     "duration": 0.075862,
     "end_time": "2021-05-23T18:08:03.266547",
     "exception": false,
     "start_time": "2021-05-23T18:08:03.190685",
     "status": "completed"
    },
    "tags": []
   },
   "outputs": [
    {
     "data": {
      "text/plain": [
       "1st    4.99e+01\n",
       "2nd    4.99e+01\n",
       "3rd    4.99e+01\n",
       "4th    4.99e+01\n",
       "5th    4.99e+01\n",
       "Avg    2.52e-05\n",
       "dtype: float64"
      ]
     },
     "execution_count": 42,
     "metadata": {},
     "output_type": "execute_result"
    }
   ],
   "source": [
    "mse = min_rss/len(y)                                   #  min_rss / degree of freedom   \n",
    "mse                                   #value should be 0 to infinite but not negative. "
   ]
  },
  {
   "cell_type": "markdown",
   "id": "velvet-victoria",
   "metadata": {
    "papermill": {
     "duration": 0.067113,
     "end_time": "2021-05-23T18:08:03.402153",
     "exception": false,
     "start_time": "2021-05-23T18:08:03.335040",
     "status": "completed"
    },
    "tags": []
   },
   "source": [
    "# Stats Model"
   ]
  },
  {
   "cell_type": "code",
   "execution_count": 43,
   "id": "incredible-webmaster",
   "metadata": {
    "execution": {
     "iopub.execute_input": "2021-05-23T18:08:03.545798Z",
     "iopub.status.busy": "2021-05-23T18:08:03.545067Z",
     "iopub.status.idle": "2021-05-23T18:08:04.400032Z",
     "shell.execute_reply": "2021-05-23T18:08:04.399495Z",
     "shell.execute_reply.started": "2021-05-23T18:06:23.606823Z"
    },
    "papermill": {
     "duration": 0.929989,
     "end_time": "2021-05-23T18:08:04.400180",
     "exception": false,
     "start_time": "2021-05-23T18:08:03.470191",
     "status": "completed"
    },
    "tags": []
   },
   "outputs": [
    {
     "data": {
      "text/html": [
       "<table class=\"simpletable\">\n",
       "<caption>OLS Regression Results</caption>\n",
       "<tr>\n",
       "  <th>Dep. Variable:</th>           <td>Avg</td>       <th>  R-squared:         </th>  <td>   1.000</td> \n",
       "</tr>\n",
       "<tr>\n",
       "  <th>Model:</th>                   <td>OLS</td>       <th>  Adj. R-squared:    </th>  <td>   1.000</td> \n",
       "</tr>\n",
       "<tr>\n",
       "  <th>Method:</th>             <td>Least Squares</td>  <th>  F-statistic:       </th>  <td>5.904e+30</td>\n",
       "</tr>\n",
       "<tr>\n",
       "  <th>Date:</th>             <td>Sun, 23 May 2021</td> <th>  Prob (F-statistic):</th>   <td>  0.00</td>  \n",
       "</tr>\n",
       "<tr>\n",
       "  <th>Time:</th>                 <td>18:08:04</td>     <th>  Log-Likelihood:    </th>  <td>  5769.7</td> \n",
       "</tr>\n",
       "<tr>\n",
       "  <th>No. Observations:</th>      <td>   178</td>      <th>  AIC:               </th> <td>-1.153e+04</td>\n",
       "</tr>\n",
       "<tr>\n",
       "  <th>Df Residuals:</th>          <td>   172</td>      <th>  BIC:               </th> <td>-1.151e+04</td>\n",
       "</tr>\n",
       "<tr>\n",
       "  <th>Df Model:</th>              <td>     5</td>      <th>                     </th>      <td> </td>    \n",
       "</tr>\n",
       "<tr>\n",
       "  <th>Covariance Type:</th>      <td>nonrobust</td>    <th>                     </th>      <td> </td>    \n",
       "</tr>\n",
       "</table>\n",
       "<table class=\"simpletable\">\n",
       "<tr>\n",
       "    <td></td>       <th>coef</th>     <th>std err</th>      <th>t</th>      <th>P>|t|</th>  <th>[0.025</th>    <th>0.975]</th>  \n",
       "</tr>\n",
       "<tr>\n",
       "  <th>const</th> <td>  2.72e-15</td> <td> 1.36e-15</td> <td>    1.998</td> <td> 0.047</td> <td> 3.25e-17</td> <td> 5.41e-15</td>\n",
       "</tr>\n",
       "<tr>\n",
       "  <th>1st</th>   <td>    0.1667</td> <td> 2.94e-16</td> <td> 5.67e+14</td> <td> 0.000</td> <td>    0.167</td> <td>    0.167</td>\n",
       "</tr>\n",
       "<tr>\n",
       "  <th>2nd</th>   <td>    0.1667</td> <td> 3.16e-16</td> <td> 5.28e+14</td> <td> 0.000</td> <td>    0.167</td> <td>    0.167</td>\n",
       "</tr>\n",
       "<tr>\n",
       "  <th>3rd</th>   <td>    0.1667</td> <td> 3.37e-16</td> <td> 4.95e+14</td> <td> 0.000</td> <td>    0.167</td> <td>    0.167</td>\n",
       "</tr>\n",
       "<tr>\n",
       "  <th>4th</th>   <td>    0.1667</td> <td> 3.09e-16</td> <td> 5.39e+14</td> <td> 0.000</td> <td>    0.167</td> <td>    0.167</td>\n",
       "</tr>\n",
       "<tr>\n",
       "  <th>5th</th>   <td>    0.1667</td> <td> 2.81e-16</td> <td> 5.92e+14</td> <td> 0.000</td> <td>    0.167</td> <td>    0.167</td>\n",
       "</tr>\n",
       "<tr>\n",
       "  <th>Avg</th>   <td>    0.1667</td> <td> 3.24e-17</td> <td> 5.15e+15</td> <td> 0.000</td> <td>    0.167</td> <td>    0.167</td>\n",
       "</tr>\n",
       "</table>\n",
       "<table class=\"simpletable\">\n",
       "<tr>\n",
       "  <th>Omnibus:</th>       <td> 1.231</td> <th>  Durbin-Watson:     </th> <td>   0.330</td>\n",
       "</tr>\n",
       "<tr>\n",
       "  <th>Prob(Omnibus):</th> <td> 0.540</td> <th>  Jarque-Bera (JB):  </th> <td>   0.869</td>\n",
       "</tr>\n",
       "<tr>\n",
       "  <th>Skew:</th>          <td>-0.128</td> <th>  Prob(JB):          </th> <td>   0.648</td>\n",
       "</tr>\n",
       "<tr>\n",
       "  <th>Kurtosis:</th>      <td> 3.227</td> <th>  Cond. No.          </th> <td>1.88e+16</td>\n",
       "</tr>\n",
       "</table><br/><br/>Notes:<br/>[1] Standard Errors assume that the covariance matrix of the errors is correctly specified.<br/>[2] The smallest eigenvalue is 1.51e-28. This might indicate that there are<br/>strong multicollinearity problems or that the design matrix is singular."
      ],
      "text/plain": [
       "<class 'statsmodels.iolib.summary.Summary'>\n",
       "\"\"\"\n",
       "                            OLS Regression Results                            \n",
       "==============================================================================\n",
       "Dep. Variable:                    Avg   R-squared:                       1.000\n",
       "Model:                            OLS   Adj. R-squared:                  1.000\n",
       "Method:                 Least Squares   F-statistic:                 5.904e+30\n",
       "Date:                Sun, 23 May 2021   Prob (F-statistic):               0.00\n",
       "Time:                        18:08:04   Log-Likelihood:                 5769.7\n",
       "No. Observations:                 178   AIC:                        -1.153e+04\n",
       "Df Residuals:                     172   BIC:                        -1.151e+04\n",
       "Df Model:                           5                                         \n",
       "Covariance Type:            nonrobust                                         \n",
       "==============================================================================\n",
       "                 coef    std err          t      P>|t|      [0.025      0.975]\n",
       "------------------------------------------------------------------------------\n",
       "const        2.72e-15   1.36e-15      1.998      0.047    3.25e-17    5.41e-15\n",
       "1st            0.1667   2.94e-16   5.67e+14      0.000       0.167       0.167\n",
       "2nd            0.1667   3.16e-16   5.28e+14      0.000       0.167       0.167\n",
       "3rd            0.1667   3.37e-16   4.95e+14      0.000       0.167       0.167\n",
       "4th            0.1667   3.09e-16   5.39e+14      0.000       0.167       0.167\n",
       "5th            0.1667   2.81e-16   5.92e+14      0.000       0.167       0.167\n",
       "Avg            0.1667   3.24e-17   5.15e+15      0.000       0.167       0.167\n",
       "==============================================================================\n",
       "Omnibus:                        1.231   Durbin-Watson:                   0.330\n",
       "Prob(Omnibus):                  0.540   Jarque-Bera (JB):                0.869\n",
       "Skew:                          -0.128   Prob(JB):                        0.648\n",
       "Kurtosis:                       3.227   Cond. No.                     1.88e+16\n",
       "==============================================================================\n",
       "\n",
       "Notes:\n",
       "[1] Standard Errors assume that the covariance matrix of the errors is correctly specified.\n",
       "[2] The smallest eigenvalue is 1.51e-28. This might indicate that there are\n",
       "strong multicollinearity problems or that the design matrix is singular.\n",
       "\"\"\""
      ]
     },
     "execution_count": 43,
     "metadata": {},
     "output_type": "execute_result"
    }
   ],
   "source": [
    "#  OLS = ordinary least square method. \n",
    "\n",
    "import statsmodels.api as sm\n",
    "X2 = sm.add_constant(X)\n",
    "est = sm.OLS(y,X2) \n",
    "est2=est.fit()\n",
    "est2.summary()"
   ]
  },
  {
   "cell_type": "code",
   "execution_count": 44,
   "id": "american-intersection",
   "metadata": {
    "execution": {
     "iopub.execute_input": "2021-05-23T18:08:04.538638Z",
     "iopub.status.busy": "2021-05-23T18:08:04.537714Z",
     "iopub.status.idle": "2021-05-23T18:08:21.054578Z",
     "shell.execute_reply": "2021-05-23T18:08:21.052973Z",
     "shell.execute_reply.started": "2021-05-23T18:06:24.361965Z"
    },
    "papermill": {
     "duration": 16.588694,
     "end_time": "2021-05-23T18:08:21.054722",
     "exception": false,
     "start_time": "2021-05-23T18:08:04.466028",
     "status": "completed"
    },
    "tags": []
   },
   "outputs": [
    {
     "data": {
      "application/vnd.jupyter.widget-view+json": {
       "model_id": "711ecea1b8bf443b9612aa71366a4d5d",
       "version_major": 2,
       "version_minor": 0
      },
      "text/plain": [
       "Summarize dataset:   0%|          | 0/23 [00:00<?, ?it/s]"
      ]
     },
     "metadata": {},
     "output_type": "display_data"
    },
    {
     "data": {
      "application/vnd.jupyter.widget-view+json": {
       "model_id": "cb5722526ab1431db9d72cffdfc362f7",
       "version_major": 2,
       "version_minor": 0
      },
      "text/plain": [
       "Generate report structure:   0%|          | 0/1 [00:00<?, ?it/s]"
      ]
     },
     "metadata": {},
     "output_type": "display_data"
    },
    {
     "data": {
      "application/vnd.jupyter.widget-view+json": {
       "model_id": "61bd465ed21142bda64b7e9f9e64214f",
       "version_major": 2,
       "version_minor": 0
      },
      "text/plain": [
       "Render HTML:   0%|          | 0/1 [00:00<?, ?it/s]"
      ]
     },
     "metadata": {},
     "output_type": "display_data"
    },
    {
     "data": {
      "application/vnd.jupyter.widget-view+json": {
       "model_id": "fa6f501ecf724d4a9806f327f9167537",
       "version_major": 2,
       "version_minor": 0
      },
      "text/plain": [
       "Export report to file:   0%|          | 0/1 [00:00<?, ?it/s]"
      ]
     },
     "metadata": {},
     "output_type": "display_data"
    }
   ],
   "source": [
    "import pandas_profiling as pp\n",
    "profile = pp.ProfileReport(df)\n",
    "profile.to_file(\"output.html\")"
   ]
  },
  {
   "cell_type": "code",
   "execution_count": null,
   "id": "supreme-letter",
   "metadata": {
    "papermill": {
     "duration": 0.068473,
     "end_time": "2021-05-23T18:08:21.192269",
     "exception": false,
     "start_time": "2021-05-23T18:08:21.123796",
     "status": "completed"
    },
    "tags": []
   },
   "outputs": [],
   "source": []
  },
  {
   "cell_type": "code",
   "execution_count": null,
   "id": "available-train",
   "metadata": {
    "papermill": {
     "duration": 0.066869,
     "end_time": "2021-05-23T18:08:21.328619",
     "exception": false,
     "start_time": "2021-05-23T18:08:21.261750",
     "status": "completed"
    },
    "tags": []
   },
   "outputs": [],
   "source": []
  }
 ],
 "metadata": {
  "kernelspec": {
   "display_name": "Python 3",
   "language": "python",
   "name": "python3"
  },
  "language_info": {
   "codemirror_mode": {
    "name": "ipython",
    "version": 3
   },
   "file_extension": ".py",
   "mimetype": "text/x-python",
   "name": "python",
   "nbconvert_exporter": "python",
   "pygments_lexer": "ipython3",
   "version": "3.7.9"
  },
  "papermill": {
   "default_parameters": {},
   "duration": 43.598177,
   "end_time": "2021-05-23T18:08:23.111005",
   "environment_variables": {},
   "exception": null,
   "input_path": "__notebook__.ipynb",
   "output_path": "__notebook__.ipynb",
   "parameters": {},
   "start_time": "2021-05-23T18:07:39.512828",
   "version": "2.3.2"
  },
  "widgets": {
   "application/vnd.jupyter.widget-state+json": {
    "state": {
     "02cb5f2541bb4dea81e9ac9c532183b2": {
      "model_module": "@jupyter-widgets/controls",
      "model_module_version": "1.5.0",
      "model_name": "DescriptionStyleModel",
      "state": {
       "_model_module": "@jupyter-widgets/controls",
       "_model_module_version": "1.5.0",
       "_model_name": "DescriptionStyleModel",
       "_view_count": null,
       "_view_module": "@jupyter-widgets/base",
       "_view_module_version": "1.2.0",
       "_view_name": "StyleView",
       "description_width": ""
      }
     },
     "02e6375c8f7b406cb3db66e1c91b90d5": {
      "model_module": "@jupyter-widgets/base",
      "model_module_version": "1.2.0",
      "model_name": "LayoutModel",
      "state": {
       "_model_module": "@jupyter-widgets/base",
       "_model_module_version": "1.2.0",
       "_model_name": "LayoutModel",
       "_view_count": null,
       "_view_module": "@jupyter-widgets/base",
       "_view_module_version": "1.2.0",
       "_view_name": "LayoutView",
       "align_content": null,
       "align_items": null,
       "align_self": null,
       "border": null,
       "bottom": null,
       "display": null,
       "flex": null,
       "flex_flow": null,
       "grid_area": null,
       "grid_auto_columns": null,
       "grid_auto_flow": null,
       "grid_auto_rows": null,
       "grid_column": null,
       "grid_gap": null,
       "grid_row": null,
       "grid_template_areas": null,
       "grid_template_columns": null,
       "grid_template_rows": null,
       "height": null,
       "justify_content": null,
       "justify_items": null,
       "left": null,
       "margin": null,
       "max_height": null,
       "max_width": null,
       "min_height": null,
       "min_width": null,
       "object_fit": null,
       "object_position": null,
       "order": null,
       "overflow": null,
       "overflow_x": null,
       "overflow_y": null,
       "padding": null,
       "right": null,
       "top": null,
       "visibility": null,
       "width": null
      }
     },
     "0712cbed6b044c7a925a7b1466ad48cc": {
      "model_module": "@jupyter-widgets/controls",
      "model_module_version": "1.5.0",
      "model_name": "DescriptionStyleModel",
      "state": {
       "_model_module": "@jupyter-widgets/controls",
       "_model_module_version": "1.5.0",
       "_model_name": "DescriptionStyleModel",
       "_view_count": null,
       "_view_module": "@jupyter-widgets/base",
       "_view_module_version": "1.2.0",
       "_view_name": "StyleView",
       "description_width": ""
      }
     },
     "0f329e5ad16b45d889c657d168e41a24": {
      "model_module": "@jupyter-widgets/base",
      "model_module_version": "1.2.0",
      "model_name": "LayoutModel",
      "state": {
       "_model_module": "@jupyter-widgets/base",
       "_model_module_version": "1.2.0",
       "_model_name": "LayoutModel",
       "_view_count": null,
       "_view_module": "@jupyter-widgets/base",
       "_view_module_version": "1.2.0",
       "_view_name": "LayoutView",
       "align_content": null,
       "align_items": null,
       "align_self": null,
       "border": null,
       "bottom": null,
       "display": null,
       "flex": null,
       "flex_flow": null,
       "grid_area": null,
       "grid_auto_columns": null,
       "grid_auto_flow": null,
       "grid_auto_rows": null,
       "grid_column": null,
       "grid_gap": null,
       "grid_row": null,
       "grid_template_areas": null,
       "grid_template_columns": null,
       "grid_template_rows": null,
       "height": null,
       "justify_content": null,
       "justify_items": null,
       "left": null,
       "margin": null,
       "max_height": null,
       "max_width": null,
       "min_height": null,
       "min_width": null,
       "object_fit": null,
       "object_position": null,
       "order": null,
       "overflow": null,
       "overflow_x": null,
       "overflow_y": null,
       "padding": null,
       "right": null,
       "top": null,
       "visibility": null,
       "width": null
      }
     },
     "18ab2439188445aca5fdabd35d0bb4a2": {
      "model_module": "@jupyter-widgets/base",
      "model_module_version": "1.2.0",
      "model_name": "LayoutModel",
      "state": {
       "_model_module": "@jupyter-widgets/base",
       "_model_module_version": "1.2.0",
       "_model_name": "LayoutModel",
       "_view_count": null,
       "_view_module": "@jupyter-widgets/base",
       "_view_module_version": "1.2.0",
       "_view_name": "LayoutView",
       "align_content": null,
       "align_items": null,
       "align_self": null,
       "border": null,
       "bottom": null,
       "display": null,
       "flex": null,
       "flex_flow": null,
       "grid_area": null,
       "grid_auto_columns": null,
       "grid_auto_flow": null,
       "grid_auto_rows": null,
       "grid_column": null,
       "grid_gap": null,
       "grid_row": null,
       "grid_template_areas": null,
       "grid_template_columns": null,
       "grid_template_rows": null,
       "height": null,
       "justify_content": null,
       "justify_items": null,
       "left": null,
       "margin": null,
       "max_height": null,
       "max_width": null,
       "min_height": null,
       "min_width": null,
       "object_fit": null,
       "object_position": null,
       "order": null,
       "overflow": null,
       "overflow_x": null,
       "overflow_y": null,
       "padding": null,
       "right": null,
       "top": null,
       "visibility": null,
       "width": null
      }
     },
     "22eb87824ba346379dd2167e6f9ec533": {
      "model_module": "@jupyter-widgets/controls",
      "model_module_version": "1.5.0",
      "model_name": "DescriptionStyleModel",
      "state": {
       "_model_module": "@jupyter-widgets/controls",
       "_model_module_version": "1.5.0",
       "_model_name": "DescriptionStyleModel",
       "_view_count": null,
       "_view_module": "@jupyter-widgets/base",
       "_view_module_version": "1.2.0",
       "_view_name": "StyleView",
       "description_width": ""
      }
     },
     "28844e4adf404602be93cd7490cb178f": {
      "model_module": "@jupyter-widgets/base",
      "model_module_version": "1.2.0",
      "model_name": "LayoutModel",
      "state": {
       "_model_module": "@jupyter-widgets/base",
       "_model_module_version": "1.2.0",
       "_model_name": "LayoutModel",
       "_view_count": null,
       "_view_module": "@jupyter-widgets/base",
       "_view_module_version": "1.2.0",
       "_view_name": "LayoutView",
       "align_content": null,
       "align_items": null,
       "align_self": null,
       "border": null,
       "bottom": null,
       "display": null,
       "flex": null,
       "flex_flow": null,
       "grid_area": null,
       "grid_auto_columns": null,
       "grid_auto_flow": null,
       "grid_auto_rows": null,
       "grid_column": null,
       "grid_gap": null,
       "grid_row": null,
       "grid_template_areas": null,
       "grid_template_columns": null,
       "grid_template_rows": null,
       "height": null,
       "justify_content": null,
       "justify_items": null,
       "left": null,
       "margin": null,
       "max_height": null,
       "max_width": null,
       "min_height": null,
       "min_width": null,
       "object_fit": null,
       "object_position": null,
       "order": null,
       "overflow": null,
       "overflow_x": null,
       "overflow_y": null,
       "padding": null,
       "right": null,
       "top": null,
       "visibility": null,
       "width": null
      }
     },
     "2c61de02d08f42a78ce537b9c4b1d498": {
      "model_module": "@jupyter-widgets/base",
      "model_module_version": "1.2.0",
      "model_name": "LayoutModel",
      "state": {
       "_model_module": "@jupyter-widgets/base",
       "_model_module_version": "1.2.0",
       "_model_name": "LayoutModel",
       "_view_count": null,
       "_view_module": "@jupyter-widgets/base",
       "_view_module_version": "1.2.0",
       "_view_name": "LayoutView",
       "align_content": null,
       "align_items": null,
       "align_self": null,
       "border": null,
       "bottom": null,
       "display": null,
       "flex": null,
       "flex_flow": null,
       "grid_area": null,
       "grid_auto_columns": null,
       "grid_auto_flow": null,
       "grid_auto_rows": null,
       "grid_column": null,
       "grid_gap": null,
       "grid_row": null,
       "grid_template_areas": null,
       "grid_template_columns": null,
       "grid_template_rows": null,
       "height": null,
       "justify_content": null,
       "justify_items": null,
       "left": null,
       "margin": null,
       "max_height": null,
       "max_width": null,
       "min_height": null,
       "min_width": null,
       "object_fit": null,
       "object_position": null,
       "order": null,
       "overflow": null,
       "overflow_x": null,
       "overflow_y": null,
       "padding": null,
       "right": null,
       "top": null,
       "visibility": null,
       "width": null
      }
     },
     "347f65a9a8cd483daacc49d1fca03774": {
      "model_module": "@jupyter-widgets/base",
      "model_module_version": "1.2.0",
      "model_name": "LayoutModel",
      "state": {
       "_model_module": "@jupyter-widgets/base",
       "_model_module_version": "1.2.0",
       "_model_name": "LayoutModel",
       "_view_count": null,
       "_view_module": "@jupyter-widgets/base",
       "_view_module_version": "1.2.0",
       "_view_name": "LayoutView",
       "align_content": null,
       "align_items": null,
       "align_self": null,
       "border": null,
       "bottom": null,
       "display": null,
       "flex": null,
       "flex_flow": null,
       "grid_area": null,
       "grid_auto_columns": null,
       "grid_auto_flow": null,
       "grid_auto_rows": null,
       "grid_column": null,
       "grid_gap": null,
       "grid_row": null,
       "grid_template_areas": null,
       "grid_template_columns": null,
       "grid_template_rows": null,
       "height": null,
       "justify_content": null,
       "justify_items": null,
       "left": null,
       "margin": null,
       "max_height": null,
       "max_width": null,
       "min_height": null,
       "min_width": null,
       "object_fit": null,
       "object_position": null,
       "order": null,
       "overflow": null,
       "overflow_x": null,
       "overflow_y": null,
       "padding": null,
       "right": null,
       "top": null,
       "visibility": null,
       "width": null
      }
     },
     "34d90d48b29d4e55bff5aaf06dd4ebef": {
      "model_module": "@jupyter-widgets/base",
      "model_module_version": "1.2.0",
      "model_name": "LayoutModel",
      "state": {
       "_model_module": "@jupyter-widgets/base",
       "_model_module_version": "1.2.0",
       "_model_name": "LayoutModel",
       "_view_count": null,
       "_view_module": "@jupyter-widgets/base",
       "_view_module_version": "1.2.0",
       "_view_name": "LayoutView",
       "align_content": null,
       "align_items": null,
       "align_self": null,
       "border": null,
       "bottom": null,
       "display": null,
       "flex": null,
       "flex_flow": null,
       "grid_area": null,
       "grid_auto_columns": null,
       "grid_auto_flow": null,
       "grid_auto_rows": null,
       "grid_column": null,
       "grid_gap": null,
       "grid_row": null,
       "grid_template_areas": null,
       "grid_template_columns": null,
       "grid_template_rows": null,
       "height": null,
       "justify_content": null,
       "justify_items": null,
       "left": null,
       "margin": null,
       "max_height": null,
       "max_width": null,
       "min_height": null,
       "min_width": null,
       "object_fit": null,
       "object_position": null,
       "order": null,
       "overflow": null,
       "overflow_x": null,
       "overflow_y": null,
       "padding": null,
       "right": null,
       "top": null,
       "visibility": null,
       "width": null
      }
     },
     "36902032fa8d4139be02d602b22421f7": {
      "model_module": "@jupyter-widgets/controls",
      "model_module_version": "1.5.0",
      "model_name": "HTMLModel",
      "state": {
       "_dom_classes": [],
       "_model_module": "@jupyter-widgets/controls",
       "_model_module_version": "1.5.0",
       "_model_name": "HTMLModel",
       "_view_count": null,
       "_view_module": "@jupyter-widgets/controls",
       "_view_module_version": "1.5.0",
       "_view_name": "HTMLView",
       "description": "",
       "description_tooltip": null,
       "layout": "IPY_MODEL_02e6375c8f7b406cb3db66e1c91b90d5",
       "placeholder": "​",
       "style": "IPY_MODEL_22eb87824ba346379dd2167e6f9ec533",
       "value": " 1/1 [00:01&lt;00:00,  1.18s/it]"
      }
     },
     "3a886cf5d02d4c0bbde2b6fb15c747f5": {
      "model_module": "@jupyter-widgets/controls",
      "model_module_version": "1.5.0",
      "model_name": "ProgressStyleModel",
      "state": {
       "_model_module": "@jupyter-widgets/controls",
       "_model_module_version": "1.5.0",
       "_model_name": "ProgressStyleModel",
       "_view_count": null,
       "_view_module": "@jupyter-widgets/base",
       "_view_module_version": "1.2.0",
       "_view_name": "StyleView",
       "bar_color": null,
       "description_width": ""
      }
     },
     "4410b38064454ad2b41b41048e3bd500": {
      "model_module": "@jupyter-widgets/base",
      "model_module_version": "1.2.0",
      "model_name": "LayoutModel",
      "state": {
       "_model_module": "@jupyter-widgets/base",
       "_model_module_version": "1.2.0",
       "_model_name": "LayoutModel",
       "_view_count": null,
       "_view_module": "@jupyter-widgets/base",
       "_view_module_version": "1.2.0",
       "_view_name": "LayoutView",
       "align_content": null,
       "align_items": null,
       "align_self": null,
       "border": null,
       "bottom": null,
       "display": null,
       "flex": null,
       "flex_flow": null,
       "grid_area": null,
       "grid_auto_columns": null,
       "grid_auto_flow": null,
       "grid_auto_rows": null,
       "grid_column": null,
       "grid_gap": null,
       "grid_row": null,
       "grid_template_areas": null,
       "grid_template_columns": null,
       "grid_template_rows": null,
       "height": null,
       "justify_content": null,
       "justify_items": null,
       "left": null,
       "margin": null,
       "max_height": null,
       "max_width": null,
       "min_height": null,
       "min_width": null,
       "object_fit": null,
       "object_position": null,
       "order": null,
       "overflow": null,
       "overflow_x": null,
       "overflow_y": null,
       "padding": null,
       "right": null,
       "top": null,
       "visibility": null,
       "width": null
      }
     },
     "537c3eefd04b4c6583c9cd647aee0485": {
      "model_module": "@jupyter-widgets/controls",
      "model_module_version": "1.5.0",
      "model_name": "HTMLModel",
      "state": {
       "_dom_classes": [],
       "_model_module": "@jupyter-widgets/controls",
       "_model_module_version": "1.5.0",
       "_model_name": "HTMLModel",
       "_view_count": null,
       "_view_module": "@jupyter-widgets/controls",
       "_view_module_version": "1.5.0",
       "_view_name": "HTMLView",
       "description": "",
       "description_tooltip": null,
       "layout": "IPY_MODEL_f8adaf9f31324abaa6bd45de4731fc34",
       "placeholder": "​",
       "style": "IPY_MODEL_95441ee2b9ba4e828aaa302dbda00386",
       "value": " 23/23 [00:10&lt;00:00,  1.48it/s, Completed]"
      }
     },
     "53be75d1977049cfb650c096e5d1b12f": {
      "model_module": "@jupyter-widgets/base",
      "model_module_version": "1.2.0",
      "model_name": "LayoutModel",
      "state": {
       "_model_module": "@jupyter-widgets/base",
       "_model_module_version": "1.2.0",
       "_model_name": "LayoutModel",
       "_view_count": null,
       "_view_module": "@jupyter-widgets/base",
       "_view_module_version": "1.2.0",
       "_view_name": "LayoutView",
       "align_content": null,
       "align_items": null,
       "align_self": null,
       "border": null,
       "bottom": null,
       "display": null,
       "flex": null,
       "flex_flow": null,
       "grid_area": null,
       "grid_auto_columns": null,
       "grid_auto_flow": null,
       "grid_auto_rows": null,
       "grid_column": null,
       "grid_gap": null,
       "grid_row": null,
       "grid_template_areas": null,
       "grid_template_columns": null,
       "grid_template_rows": null,
       "height": null,
       "justify_content": null,
       "justify_items": null,
       "left": null,
       "margin": null,
       "max_height": null,
       "max_width": null,
       "min_height": null,
       "min_width": null,
       "object_fit": null,
       "object_position": null,
       "order": null,
       "overflow": null,
       "overflow_x": null,
       "overflow_y": null,
       "padding": null,
       "right": null,
       "top": null,
       "visibility": null,
       "width": null
      }
     },
     "59d98a4e8a8f458b879f7286add6b8af": {
      "model_module": "@jupyter-widgets/controls",
      "model_module_version": "1.5.0",
      "model_name": "HTMLModel",
      "state": {
       "_dom_classes": [],
       "_model_module": "@jupyter-widgets/controls",
       "_model_module_version": "1.5.0",
       "_model_name": "HTMLModel",
       "_view_count": null,
       "_view_module": "@jupyter-widgets/controls",
       "_view_module_version": "1.5.0",
       "_view_name": "HTMLView",
       "description": "",
       "description_tooltip": null,
       "layout": "IPY_MODEL_84a8905293e44c83873e3673f693adca",
       "placeholder": "​",
       "style": "IPY_MODEL_02cb5f2541bb4dea81e9ac9c532183b2",
       "value": "Generate report structure: 100%"
      }
     },
     "61bd465ed21142bda64b7e9f9e64214f": {
      "model_module": "@jupyter-widgets/controls",
      "model_module_version": "1.5.0",
      "model_name": "HBoxModel",
      "state": {
       "_dom_classes": [],
       "_model_module": "@jupyter-widgets/controls",
       "_model_module_version": "1.5.0",
       "_model_name": "HBoxModel",
       "_view_count": null,
       "_view_module": "@jupyter-widgets/controls",
       "_view_module_version": "1.5.0",
       "_view_name": "HBoxView",
       "box_style": "",
       "children": [
        "IPY_MODEL_bc7eeefc00854eb08062c96fd6a7be50",
        "IPY_MODEL_f826643b5309454b9c5caa01ff42e79a",
        "IPY_MODEL_36902032fa8d4139be02d602b22421f7"
       ],
       "layout": "IPY_MODEL_18ab2439188445aca5fdabd35d0bb4a2"
      }
     },
     "6946201ae7284b2e861158024b4a3694": {
      "model_module": "@jupyter-widgets/controls",
      "model_module_version": "1.5.0",
      "model_name": "FloatProgressModel",
      "state": {
       "_dom_classes": [],
       "_model_module": "@jupyter-widgets/controls",
       "_model_module_version": "1.5.0",
       "_model_name": "FloatProgressModel",
       "_view_count": null,
       "_view_module": "@jupyter-widgets/controls",
       "_view_module_version": "1.5.0",
       "_view_name": "ProgressView",
       "bar_style": "success",
       "description": "",
       "description_tooltip": null,
       "layout": "IPY_MODEL_d64fc12a31bd4922b5a5673d46d8e7ee",
       "max": 23.0,
       "min": 0.0,
       "orientation": "horizontal",
       "style": "IPY_MODEL_895919ed197d4b048f104a46d710c0e2",
       "value": 23.0
      }
     },
     "711ecea1b8bf443b9612aa71366a4d5d": {
      "model_module": "@jupyter-widgets/controls",
      "model_module_version": "1.5.0",
      "model_name": "HBoxModel",
      "state": {
       "_dom_classes": [],
       "_model_module": "@jupyter-widgets/controls",
       "_model_module_version": "1.5.0",
       "_model_name": "HBoxModel",
       "_view_count": null,
       "_view_module": "@jupyter-widgets/controls",
       "_view_module_version": "1.5.0",
       "_view_name": "HBoxView",
       "box_style": "",
       "children": [
        "IPY_MODEL_95e34f561bcc4bd2acfc6d696bb5e154",
        "IPY_MODEL_6946201ae7284b2e861158024b4a3694",
        "IPY_MODEL_537c3eefd04b4c6583c9cd647aee0485"
       ],
       "layout": "IPY_MODEL_53be75d1977049cfb650c096e5d1b12f"
      }
     },
     "72d039c5bc4f42da8bd38ebdbb1f6fc0": {
      "model_module": "@jupyter-widgets/controls",
      "model_module_version": "1.5.0",
      "model_name": "DescriptionStyleModel",
      "state": {
       "_model_module": "@jupyter-widgets/controls",
       "_model_module_version": "1.5.0",
       "_model_name": "DescriptionStyleModel",
       "_view_count": null,
       "_view_module": "@jupyter-widgets/base",
       "_view_module_version": "1.2.0",
       "_view_name": "StyleView",
       "description_width": ""
      }
     },
     "7b3017205fd84a43ba3a6def3758ec57": {
      "model_module": "@jupyter-widgets/controls",
      "model_module_version": "1.5.0",
      "model_name": "FloatProgressModel",
      "state": {
       "_dom_classes": [],
       "_model_module": "@jupyter-widgets/controls",
       "_model_module_version": "1.5.0",
       "_model_name": "FloatProgressModel",
       "_view_count": null,
       "_view_module": "@jupyter-widgets/controls",
       "_view_module_version": "1.5.0",
       "_view_name": "ProgressView",
       "bar_style": "success",
       "description": "",
       "description_tooltip": null,
       "layout": "IPY_MODEL_0f329e5ad16b45d889c657d168e41a24",
       "max": 1.0,
       "min": 0.0,
       "orientation": "horizontal",
       "style": "IPY_MODEL_3a886cf5d02d4c0bbde2b6fb15c747f5",
       "value": 1.0
      }
     },
     "822c680d7cf24e10a8e5538a932693eb": {
      "model_module": "@jupyter-widgets/controls",
      "model_module_version": "1.5.0",
      "model_name": "FloatProgressModel",
      "state": {
       "_dom_classes": [],
       "_model_module": "@jupyter-widgets/controls",
       "_model_module_version": "1.5.0",
       "_model_name": "FloatProgressModel",
       "_view_count": null,
       "_view_module": "@jupyter-widgets/controls",
       "_view_module_version": "1.5.0",
       "_view_name": "ProgressView",
       "bar_style": "success",
       "description": "",
       "description_tooltip": null,
       "layout": "IPY_MODEL_28844e4adf404602be93cd7490cb178f",
       "max": 1.0,
       "min": 0.0,
       "orientation": "horizontal",
       "style": "IPY_MODEL_b6cf94406896463c8f722b2db891c857",
       "value": 1.0
      }
     },
     "84a8905293e44c83873e3673f693adca": {
      "model_module": "@jupyter-widgets/base",
      "model_module_version": "1.2.0",
      "model_name": "LayoutModel",
      "state": {
       "_model_module": "@jupyter-widgets/base",
       "_model_module_version": "1.2.0",
       "_model_name": "LayoutModel",
       "_view_count": null,
       "_view_module": "@jupyter-widgets/base",
       "_view_module_version": "1.2.0",
       "_view_name": "LayoutView",
       "align_content": null,
       "align_items": null,
       "align_self": null,
       "border": null,
       "bottom": null,
       "display": null,
       "flex": null,
       "flex_flow": null,
       "grid_area": null,
       "grid_auto_columns": null,
       "grid_auto_flow": null,
       "grid_auto_rows": null,
       "grid_column": null,
       "grid_gap": null,
       "grid_row": null,
       "grid_template_areas": null,
       "grid_template_columns": null,
       "grid_template_rows": null,
       "height": null,
       "justify_content": null,
       "justify_items": null,
       "left": null,
       "margin": null,
       "max_height": null,
       "max_width": null,
       "min_height": null,
       "min_width": null,
       "object_fit": null,
       "object_position": null,
       "order": null,
       "overflow": null,
       "overflow_x": null,
       "overflow_y": null,
       "padding": null,
       "right": null,
       "top": null,
       "visibility": null,
       "width": null
      }
     },
     "895919ed197d4b048f104a46d710c0e2": {
      "model_module": "@jupyter-widgets/controls",
      "model_module_version": "1.5.0",
      "model_name": "ProgressStyleModel",
      "state": {
       "_model_module": "@jupyter-widgets/controls",
       "_model_module_version": "1.5.0",
       "_model_name": "ProgressStyleModel",
       "_view_count": null,
       "_view_module": "@jupyter-widgets/base",
       "_view_module_version": "1.2.0",
       "_view_name": "StyleView",
       "bar_color": null,
       "description_width": ""
      }
     },
     "92866ad432554da98fc5afe3b9b71dae": {
      "model_module": "@jupyter-widgets/base",
      "model_module_version": "1.2.0",
      "model_name": "LayoutModel",
      "state": {
       "_model_module": "@jupyter-widgets/base",
       "_model_module_version": "1.2.0",
       "_model_name": "LayoutModel",
       "_view_count": null,
       "_view_module": "@jupyter-widgets/base",
       "_view_module_version": "1.2.0",
       "_view_name": "LayoutView",
       "align_content": null,
       "align_items": null,
       "align_self": null,
       "border": null,
       "bottom": null,
       "display": null,
       "flex": null,
       "flex_flow": null,
       "grid_area": null,
       "grid_auto_columns": null,
       "grid_auto_flow": null,
       "grid_auto_rows": null,
       "grid_column": null,
       "grid_gap": null,
       "grid_row": null,
       "grid_template_areas": null,
       "grid_template_columns": null,
       "grid_template_rows": null,
       "height": null,
       "justify_content": null,
       "justify_items": null,
       "left": null,
       "margin": null,
       "max_height": null,
       "max_width": null,
       "min_height": null,
       "min_width": null,
       "object_fit": null,
       "object_position": null,
       "order": null,
       "overflow": null,
       "overflow_x": null,
       "overflow_y": null,
       "padding": null,
       "right": null,
       "top": null,
       "visibility": null,
       "width": null
      }
     },
     "95441ee2b9ba4e828aaa302dbda00386": {
      "model_module": "@jupyter-widgets/controls",
      "model_module_version": "1.5.0",
      "model_name": "DescriptionStyleModel",
      "state": {
       "_model_module": "@jupyter-widgets/controls",
       "_model_module_version": "1.5.0",
       "_model_name": "DescriptionStyleModel",
       "_view_count": null,
       "_view_module": "@jupyter-widgets/base",
       "_view_module_version": "1.2.0",
       "_view_name": "StyleView",
       "description_width": ""
      }
     },
     "95e34f561bcc4bd2acfc6d696bb5e154": {
      "model_module": "@jupyter-widgets/controls",
      "model_module_version": "1.5.0",
      "model_name": "HTMLModel",
      "state": {
       "_dom_classes": [],
       "_model_module": "@jupyter-widgets/controls",
       "_model_module_version": "1.5.0",
       "_model_name": "HTMLModel",
       "_view_count": null,
       "_view_module": "@jupyter-widgets/controls",
       "_view_module_version": "1.5.0",
       "_view_name": "HTMLView",
       "description": "",
       "description_tooltip": null,
       "layout": "IPY_MODEL_2c61de02d08f42a78ce537b9c4b1d498",
       "placeholder": "​",
       "style": "IPY_MODEL_72d039c5bc4f42da8bd38ebdbb1f6fc0",
       "value": "Summarize dataset: 100%"
      }
     },
     "a29e3823c37648c4b7dc3abd32986113": {
      "model_module": "@jupyter-widgets/controls",
      "model_module_version": "1.5.0",
      "model_name": "DescriptionStyleModel",
      "state": {
       "_model_module": "@jupyter-widgets/controls",
       "_model_module_version": "1.5.0",
       "_model_name": "DescriptionStyleModel",
       "_view_count": null,
       "_view_module": "@jupyter-widgets/base",
       "_view_module_version": "1.2.0",
       "_view_name": "StyleView",
       "description_width": ""
      }
     },
     "a7ae6089a1a6404c8ec9dfa9536495b8": {
      "model_module": "@jupyter-widgets/base",
      "model_module_version": "1.2.0",
      "model_name": "LayoutModel",
      "state": {
       "_model_module": "@jupyter-widgets/base",
       "_model_module_version": "1.2.0",
       "_model_name": "LayoutModel",
       "_view_count": null,
       "_view_module": "@jupyter-widgets/base",
       "_view_module_version": "1.2.0",
       "_view_name": "LayoutView",
       "align_content": null,
       "align_items": null,
       "align_self": null,
       "border": null,
       "bottom": null,
       "display": null,
       "flex": null,
       "flex_flow": null,
       "grid_area": null,
       "grid_auto_columns": null,
       "grid_auto_flow": null,
       "grid_auto_rows": null,
       "grid_column": null,
       "grid_gap": null,
       "grid_row": null,
       "grid_template_areas": null,
       "grid_template_columns": null,
       "grid_template_rows": null,
       "height": null,
       "justify_content": null,
       "justify_items": null,
       "left": null,
       "margin": null,
       "max_height": null,
       "max_width": null,
       "min_height": null,
       "min_width": null,
       "object_fit": null,
       "object_position": null,
       "order": null,
       "overflow": null,
       "overflow_x": null,
       "overflow_y": null,
       "padding": null,
       "right": null,
       "top": null,
       "visibility": null,
       "width": null
      }
     },
     "b548fde954604a87837422feaf2e4c45": {
      "model_module": "@jupyter-widgets/base",
      "model_module_version": "1.2.0",
      "model_name": "LayoutModel",
      "state": {
       "_model_module": "@jupyter-widgets/base",
       "_model_module_version": "1.2.0",
       "_model_name": "LayoutModel",
       "_view_count": null,
       "_view_module": "@jupyter-widgets/base",
       "_view_module_version": "1.2.0",
       "_view_name": "LayoutView",
       "align_content": null,
       "align_items": null,
       "align_self": null,
       "border": null,
       "bottom": null,
       "display": null,
       "flex": null,
       "flex_flow": null,
       "grid_area": null,
       "grid_auto_columns": null,
       "grid_auto_flow": null,
       "grid_auto_rows": null,
       "grid_column": null,
       "grid_gap": null,
       "grid_row": null,
       "grid_template_areas": null,
       "grid_template_columns": null,
       "grid_template_rows": null,
       "height": null,
       "justify_content": null,
       "justify_items": null,
       "left": null,
       "margin": null,
       "max_height": null,
       "max_width": null,
       "min_height": null,
       "min_width": null,
       "object_fit": null,
       "object_position": null,
       "order": null,
       "overflow": null,
       "overflow_x": null,
       "overflow_y": null,
       "padding": null,
       "right": null,
       "top": null,
       "visibility": null,
       "width": null
      }
     },
     "b68b2a4d59e0480eb30baee8e0e87d7d": {
      "model_module": "@jupyter-widgets/base",
      "model_module_version": "1.2.0",
      "model_name": "LayoutModel",
      "state": {
       "_model_module": "@jupyter-widgets/base",
       "_model_module_version": "1.2.0",
       "_model_name": "LayoutModel",
       "_view_count": null,
       "_view_module": "@jupyter-widgets/base",
       "_view_module_version": "1.2.0",
       "_view_name": "LayoutView",
       "align_content": null,
       "align_items": null,
       "align_self": null,
       "border": null,
       "bottom": null,
       "display": null,
       "flex": null,
       "flex_flow": null,
       "grid_area": null,
       "grid_auto_columns": null,
       "grid_auto_flow": null,
       "grid_auto_rows": null,
       "grid_column": null,
       "grid_gap": null,
       "grid_row": null,
       "grid_template_areas": null,
       "grid_template_columns": null,
       "grid_template_rows": null,
       "height": null,
       "justify_content": null,
       "justify_items": null,
       "left": null,
       "margin": null,
       "max_height": null,
       "max_width": null,
       "min_height": null,
       "min_width": null,
       "object_fit": null,
       "object_position": null,
       "order": null,
       "overflow": null,
       "overflow_x": null,
       "overflow_y": null,
       "padding": null,
       "right": null,
       "top": null,
       "visibility": null,
       "width": null
      }
     },
     "b6cf94406896463c8f722b2db891c857": {
      "model_module": "@jupyter-widgets/controls",
      "model_module_version": "1.5.0",
      "model_name": "ProgressStyleModel",
      "state": {
       "_model_module": "@jupyter-widgets/controls",
       "_model_module_version": "1.5.0",
       "_model_name": "ProgressStyleModel",
       "_view_count": null,
       "_view_module": "@jupyter-widgets/base",
       "_view_module_version": "1.2.0",
       "_view_name": "StyleView",
       "bar_color": null,
       "description_width": ""
      }
     },
     "bc7eeefc00854eb08062c96fd6a7be50": {
      "model_module": "@jupyter-widgets/controls",
      "model_module_version": "1.5.0",
      "model_name": "HTMLModel",
      "state": {
       "_dom_classes": [],
       "_model_module": "@jupyter-widgets/controls",
       "_model_module_version": "1.5.0",
       "_model_name": "HTMLModel",
       "_view_count": null,
       "_view_module": "@jupyter-widgets/controls",
       "_view_module_version": "1.5.0",
       "_view_name": "HTMLView",
       "description": "",
       "description_tooltip": null,
       "layout": "IPY_MODEL_b68b2a4d59e0480eb30baee8e0e87d7d",
       "placeholder": "​",
       "style": "IPY_MODEL_e3a774bb483a4d2c93db3c677b38ffdb",
       "value": "Render HTML: 100%"
      }
     },
     "cb5722526ab1431db9d72cffdfc362f7": {
      "model_module": "@jupyter-widgets/controls",
      "model_module_version": "1.5.0",
      "model_name": "HBoxModel",
      "state": {
       "_dom_classes": [],
       "_model_module": "@jupyter-widgets/controls",
       "_model_module_version": "1.5.0",
       "_model_name": "HBoxModel",
       "_view_count": null,
       "_view_module": "@jupyter-widgets/controls",
       "_view_module_version": "1.5.0",
       "_view_name": "HBoxView",
       "box_style": "",
       "children": [
        "IPY_MODEL_59d98a4e8a8f458b879f7286add6b8af",
        "IPY_MODEL_822c680d7cf24e10a8e5538a932693eb",
        "IPY_MODEL_f213cbb702384c1f8fc530e7a111fe80"
       ],
       "layout": "IPY_MODEL_b548fde954604a87837422feaf2e4c45"
      }
     },
     "d64fc12a31bd4922b5a5673d46d8e7ee": {
      "model_module": "@jupyter-widgets/base",
      "model_module_version": "1.2.0",
      "model_name": "LayoutModel",
      "state": {
       "_model_module": "@jupyter-widgets/base",
       "_model_module_version": "1.2.0",
       "_model_name": "LayoutModel",
       "_view_count": null,
       "_view_module": "@jupyter-widgets/base",
       "_view_module_version": "1.2.0",
       "_view_name": "LayoutView",
       "align_content": null,
       "align_items": null,
       "align_self": null,
       "border": null,
       "bottom": null,
       "display": null,
       "flex": null,
       "flex_flow": null,
       "grid_area": null,
       "grid_auto_columns": null,
       "grid_auto_flow": null,
       "grid_auto_rows": null,
       "grid_column": null,
       "grid_gap": null,
       "grid_row": null,
       "grid_template_areas": null,
       "grid_template_columns": null,
       "grid_template_rows": null,
       "height": null,
       "justify_content": null,
       "justify_items": null,
       "left": null,
       "margin": null,
       "max_height": null,
       "max_width": null,
       "min_height": null,
       "min_width": null,
       "object_fit": null,
       "object_position": null,
       "order": null,
       "overflow": null,
       "overflow_x": null,
       "overflow_y": null,
       "padding": null,
       "right": null,
       "top": null,
       "visibility": null,
       "width": null
      }
     },
     "d9ed5755512c4517b485fa25a9b13233": {
      "model_module": "@jupyter-widgets/controls",
      "model_module_version": "1.5.0",
      "model_name": "DescriptionStyleModel",
      "state": {
       "_model_module": "@jupyter-widgets/controls",
       "_model_module_version": "1.5.0",
       "_model_name": "DescriptionStyleModel",
       "_view_count": null,
       "_view_module": "@jupyter-widgets/base",
       "_view_module_version": "1.2.0",
       "_view_name": "StyleView",
       "description_width": ""
      }
     },
     "e0d199ab361e469bae7343a9be51a358": {
      "model_module": "@jupyter-widgets/controls",
      "model_module_version": "1.5.0",
      "model_name": "HTMLModel",
      "state": {
       "_dom_classes": [],
       "_model_module": "@jupyter-widgets/controls",
       "_model_module_version": "1.5.0",
       "_model_name": "HTMLModel",
       "_view_count": null,
       "_view_module": "@jupyter-widgets/controls",
       "_view_module_version": "1.5.0",
       "_view_name": "HTMLView",
       "description": "",
       "description_tooltip": null,
       "layout": "IPY_MODEL_92866ad432554da98fc5afe3b9b71dae",
       "placeholder": "​",
       "style": "IPY_MODEL_0712cbed6b044c7a925a7b1466ad48cc",
       "value": " 1/1 [00:00&lt;00:00, 29.52it/s]"
      }
     },
     "e3a774bb483a4d2c93db3c677b38ffdb": {
      "model_module": "@jupyter-widgets/controls",
      "model_module_version": "1.5.0",
      "model_name": "DescriptionStyleModel",
      "state": {
       "_model_module": "@jupyter-widgets/controls",
       "_model_module_version": "1.5.0",
       "_model_name": "DescriptionStyleModel",
       "_view_count": null,
       "_view_module": "@jupyter-widgets/base",
       "_view_module_version": "1.2.0",
       "_view_name": "StyleView",
       "description_width": ""
      }
     },
     "e7d768ae947a4951bd2f4ad9d2839822": {
      "model_module": "@jupyter-widgets/controls",
      "model_module_version": "1.5.0",
      "model_name": "HTMLModel",
      "state": {
       "_dom_classes": [],
       "_model_module": "@jupyter-widgets/controls",
       "_model_module_version": "1.5.0",
       "_model_name": "HTMLModel",
       "_view_count": null,
       "_view_module": "@jupyter-widgets/controls",
       "_view_module_version": "1.5.0",
       "_view_name": "HTMLView",
       "description": "",
       "description_tooltip": null,
       "layout": "IPY_MODEL_347f65a9a8cd483daacc49d1fca03774",
       "placeholder": "​",
       "style": "IPY_MODEL_d9ed5755512c4517b485fa25a9b13233",
       "value": "Export report to file: 100%"
      }
     },
     "f213cbb702384c1f8fc530e7a111fe80": {
      "model_module": "@jupyter-widgets/controls",
      "model_module_version": "1.5.0",
      "model_name": "HTMLModel",
      "state": {
       "_dom_classes": [],
       "_model_module": "@jupyter-widgets/controls",
       "_model_module_version": "1.5.0",
       "_model_name": "HTMLModel",
       "_view_count": null,
       "_view_module": "@jupyter-widgets/controls",
       "_view_module_version": "1.5.0",
       "_view_name": "HTMLView",
       "description": "",
       "description_tooltip": null,
       "layout": "IPY_MODEL_34d90d48b29d4e55bff5aaf06dd4ebef",
       "placeholder": "​",
       "style": "IPY_MODEL_a29e3823c37648c4b7dc3abd32986113",
       "value": " 1/1 [00:03&lt;00:00,  3.67s/it]"
      }
     },
     "f808f1aeba414989968d163efda886f5": {
      "model_module": "@jupyter-widgets/controls",
      "model_module_version": "1.5.0",
      "model_name": "ProgressStyleModel",
      "state": {
       "_model_module": "@jupyter-widgets/controls",
       "_model_module_version": "1.5.0",
       "_model_name": "ProgressStyleModel",
       "_view_count": null,
       "_view_module": "@jupyter-widgets/base",
       "_view_module_version": "1.2.0",
       "_view_name": "StyleView",
       "bar_color": null,
       "description_width": ""
      }
     },
     "f826643b5309454b9c5caa01ff42e79a": {
      "model_module": "@jupyter-widgets/controls",
      "model_module_version": "1.5.0",
      "model_name": "FloatProgressModel",
      "state": {
       "_dom_classes": [],
       "_model_module": "@jupyter-widgets/controls",
       "_model_module_version": "1.5.0",
       "_model_name": "FloatProgressModel",
       "_view_count": null,
       "_view_module": "@jupyter-widgets/controls",
       "_view_module_version": "1.5.0",
       "_view_name": "ProgressView",
       "bar_style": "success",
       "description": "",
       "description_tooltip": null,
       "layout": "IPY_MODEL_a7ae6089a1a6404c8ec9dfa9536495b8",
       "max": 1.0,
       "min": 0.0,
       "orientation": "horizontal",
       "style": "IPY_MODEL_f808f1aeba414989968d163efda886f5",
       "value": 1.0
      }
     },
     "f8adaf9f31324abaa6bd45de4731fc34": {
      "model_module": "@jupyter-widgets/base",
      "model_module_version": "1.2.0",
      "model_name": "LayoutModel",
      "state": {
       "_model_module": "@jupyter-widgets/base",
       "_model_module_version": "1.2.0",
       "_model_name": "LayoutModel",
       "_view_count": null,
       "_view_module": "@jupyter-widgets/base",
       "_view_module_version": "1.2.0",
       "_view_name": "LayoutView",
       "align_content": null,
       "align_items": null,
       "align_self": null,
       "border": null,
       "bottom": null,
       "display": null,
       "flex": null,
       "flex_flow": null,
       "grid_area": null,
       "grid_auto_columns": null,
       "grid_auto_flow": null,
       "grid_auto_rows": null,
       "grid_column": null,
       "grid_gap": null,
       "grid_row": null,
       "grid_template_areas": null,
       "grid_template_columns": null,
       "grid_template_rows": null,
       "height": null,
       "justify_content": null,
       "justify_items": null,
       "left": null,
       "margin": null,
       "max_height": null,
       "max_width": null,
       "min_height": null,
       "min_width": null,
       "object_fit": null,
       "object_position": null,
       "order": null,
       "overflow": null,
       "overflow_x": null,
       "overflow_y": null,
       "padding": null,
       "right": null,
       "top": null,
       "visibility": null,
       "width": null
      }
     },
     "fa6f501ecf724d4a9806f327f9167537": {
      "model_module": "@jupyter-widgets/controls",
      "model_module_version": "1.5.0",
      "model_name": "HBoxModel",
      "state": {
       "_dom_classes": [],
       "_model_module": "@jupyter-widgets/controls",
       "_model_module_version": "1.5.0",
       "_model_name": "HBoxModel",
       "_view_count": null,
       "_view_module": "@jupyter-widgets/controls",
       "_view_module_version": "1.5.0",
       "_view_name": "HBoxView",
       "box_style": "",
       "children": [
        "IPY_MODEL_e7d768ae947a4951bd2f4ad9d2839822",
        "IPY_MODEL_7b3017205fd84a43ba3a6def3758ec57",
        "IPY_MODEL_e0d199ab361e469bae7343a9be51a358"
       ],
       "layout": "IPY_MODEL_4410b38064454ad2b41b41048e3bd500"
      }
     }
    },
    "version_major": 2,
    "version_minor": 0
   }
  }
 },
 "nbformat": 4,
 "nbformat_minor": 5
}
